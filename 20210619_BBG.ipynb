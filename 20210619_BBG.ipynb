{
 "cells": [
  {
   "cell_type": "markdown",
   "id": "9ef6b05b",
   "metadata": {},
   "source": [
    "# 2021.06.19 제 2회 빅분기 복기"
   ]
  },
  {
   "cell_type": "markdown",
   "id": "8bc59a35",
   "metadata": {},
   "source": [
    "## 작업형 1유형"
   ]
  },
  {
   "cell_type": "markdown",
   "id": "7946ac28",
   "metadata": {},
   "source": [
    "### 문제1\n",
    "- 주어진 데이터셋에서 'CRIM'값이 가장 큰 10개지역을 구하고\n",
    "- 10개 지역의 'CRIM' 값을 그중 가장 작은 값으로 대체 \n",
    "- 'AGE' 컬럼값이 80이상인 행의 'CRIM'평균값을 구해라(단 출력 결과는 정수 형태로 한다.)"
   ]
  },
  {
   "cell_type": "code",
   "execution_count": 23,
   "id": "948ea540",
   "metadata": {},
   "outputs": [
    {
     "name": "stdout",
     "output_type": "stream",
     "text": [
      "5\n"
     ]
    }
   ],
   "source": [
    "import pandas as pd\n",
    "\n",
    "data = pd.read_csv('https://raw.githubusercontent.com/JEunJin/Bigdata_python/master/bigdata_csvfile/boston_housing_data.csv')\n",
    "\n",
    "data = data.sort_values('CRIM',ascending=False) # 내림차순 \n",
    "\n",
    "#가장 큰 10개 지역 \n",
    "#print(data.iloc[0:10]) # 이중 가장 작은 값 = 25.9406\n",
    "min_crim = data.iloc[9]['CRIM']\n",
    "#print(min_crim) # \n",
    "data.iloc[0:10,0] = min_crim # CRIM의 index = 0\n",
    "#print(data.iloc[0:10]) # 이중 가장 작은 값 으로 대체 완료 \n",
    "\n",
    "data = data[data['AGE'] >=80]# AGE 80 이상 인 것들만 가져옴옴\n",
    "print(int(data['CRIM'].mean()))\n",
    "\n"
   ]
  },
  {
   "cell_type": "markdown",
   "id": "30a851ea",
   "metadata": {},
   "source": [
    "### 문제 2\n",
    "- 첫번째 행부터 순서대로 80%까지 데이터 추출\n",
    "- total bedrooms 컬럼의 중앙값으로 해당 컬럼의 결측치를 대체 \n",
    "- total bedrooms컬럼의 대치 전후의 표준편차 차이 구헤라(단 출력값은 소수점 3자리까지 출력력)"
   ]
  },
  {
   "cell_type": "code",
   "execution_count": 29,
   "id": "0cb86eb7",
   "metadata": {},
   "outputs": [
    {
     "name": "stdout",
     "output_type": "stream",
     "text": [
      "1.975\n"
     ]
    },
    {
     "name": "stderr",
     "output_type": "stream",
     "text": [
      "C:\\Users\\yee77\\AppData\\Local\\Temp\\ipykernel_17892\\252969956.py:9: FutureWarning: A value is trying to be set on a copy of a DataFrame or Series through chained assignment using an inplace method.\n",
      "The behavior will change in pandas 3.0. This inplace method will never work because the intermediate object on which we are setting values always behaves as a copy.\n",
      "\n",
      "For example, when doing 'df[col].method(value, inplace=True)', try using 'df.method({col: value}, inplace=True)' or df[col] = df[col].method(value) instead, to perform the operation inplace on the original object.\n",
      "\n",
      "\n",
      "  data['total_bedrooms'].fillna(data['total_bedrooms'].median(),inplace=True)\n"
     ]
    }
   ],
   "source": [
    "import pandas as pd \n",
    "data = pd.read_csv('https://raw.githubusercontent.com/JEunJin/Bigdata_python/master/bigdata_csvfile/california_housing.csv')\n",
    "#print(data.info()) # total bedrooms 에 결측치 존재 \n",
    "#print(20640*0.8) # 16512 가 전체 80\n",
    "\n",
    "data = data.iloc[0:16512]\n",
    "before_std = data['total_bedrooms'].std()\n",
    "#print(data.info())\n",
    "data['total_bedrooms'].fillna(data['total_bedrooms'].median(),inplace=True)\n",
    "#print(data.info()) 결측치 대체 완료 \n",
    "after_std = data['total_bedrooms'].std()\n",
    "\n",
    "print(round(before_std-after_std,3))\n",
    "\n"
   ]
  },
  {
   "cell_type": "markdown",
   "id": "8c609625",
   "metadata": {},
   "source": [
    "### 문제 3\n",
    "- population 컬럼의 평균으로부터 1.5x표준편차를 벗어나는 영역을 이상치로 판단\n",
    "- 이상치들의 합을 구하시오 \n"
   ]
  },
  {
   "cell_type": "code",
   "execution_count": 35,
   "id": "44b0f48b",
   "metadata": {},
   "outputs": [
    {
     "name": "stdout",
     "output_type": "stream",
     "text": [
      "5607295.0\n"
     ]
    }
   ],
   "source": [
    "import pandas as pd\n",
    "data = pd.read_csv('https://raw.githubusercontent.com/JEunJin/Bigdata_python/master/bigdata_csvfile/california_housing.csv')\n",
    "\n",
    "m = data['population'].mean()\n",
    "s = data['population'].std()\n",
    "#print(m,s)\n",
    "lower = m - 1.5*s\n",
    "upper = m + 1.5*s\n",
    "#print(upper,lower)\n",
    "data = data[(data['population']>upper) | (data['population']<lower)]\n",
    "print(data['population'].sum())"
   ]
  },
  {
   "cell_type": "markdown",
   "id": "266e44b9",
   "metadata": {},
   "source": [
    "## 작업형 2유형 "
   ]
  },
  {
   "cell_type": "markdown",
   "id": "b985a1a3",
   "metadata": {},
   "source": [
    "### 문제 \n",
    "- 주어진 데이터 활용 , 고객이 주문한 물품의 제시간 도착 여부를 예측하는 모델 생성(Reached.on_Time_Y.N)\n",
    "- 평가기준은 roc_auc_score\n",
    "- 제출형태: 'cust_id':ID , 'reached_ontime':value \n",
    "- 제출파일 이름 : 2nd_test_type2.csv \n",
    "- 데이터 상위 10000개 데이터를 train으로 사용 , 나머지 999개를 test로 사용 할 수 있도록 슬라이싱\n"
   ]
  },
  {
   "cell_type": "code",
   "execution_count": 57,
   "id": "2ea626dd",
   "metadata": {},
   "outputs": [
    {
     "name": "stdout",
     "output_type": "stream",
     "text": [
      "0.6812909793359945\n",
      "0.686\n",
      "     cust_id  reached_ontime\n",
      "0      10001               1\n",
      "1      10002               0\n",
      "2      10003               1\n",
      "3      10004               1\n",
      "4      10005               0\n",
      "..       ...             ...\n",
      "994    10995               0\n",
      "995    10996               0\n",
      "996    10997               0\n",
      "997    10998               0\n",
      "998    10999               0\n",
      "\n",
      "[999 rows x 2 columns]\n"
     ]
    }
   ],
   "source": [
    "import pandas as pd \n",
    "data = pd.read_csv('https://raw.githubusercontent.com/JEunJin/Bigdata_python/master/bigdata_csvfile/E-Commerce_Shipping.csv')\n",
    "#print(data.info()) # 결측치 없음 \n",
    "# 전처리(4개 컬럼)\n",
    "\n",
    "from sklearn.preprocessing import LabelEncoder\n",
    "le = LabelEncoder()\n",
    "data['Warehouse_block'] = le.fit_transform(data['Warehouse_block'])\n",
    "data['Mode_of_Shipment'] = le.fit_transform(data['Mode_of_Shipment'])\n",
    "data['Product_importance'] = le.fit_transform(data['Product_importance'])\n",
    "data['Gender'] = le.fit_transform(data['Gender'])\n",
    "\n",
    "# 데이터 슬라이싱 \n",
    "train = data.iloc[0:10000]\n",
    "test = data.iloc[10000:]\n",
    "#print(train.info())\n",
    "\n",
    "# 데이터 분할\n",
    "X = train.drop(columns=['Reached.on.Time_Y.N'])\n",
    "y = train['Reached.on.Time_Y.N']\n",
    "from sklearn.model_selection import train_test_split\n",
    "train_X,val_X,train_y,val_y=train_test_split(X,y,test_size=0.2,random_state=123)\n",
    "\n",
    "# 분류 모델 학습 \n",
    "from sklearn.ensemble import RandomForestClassifier\n",
    "rfc = RandomForestClassifier()\n",
    "rfc.fit(train_X,train_y)\n",
    "y_pred = rfc.predict(val_X)\n",
    "# 평가 \n",
    "from sklearn.metrics import roc_auc_score,accuracy_score\n",
    "print(roc_auc_score(y_pred,val_y)) # 0.68\n",
    "print(accuracy_score(y_pred,val_y)) # 0.68  >> 이정도면 무난한 모델?\n",
    "\n",
    "# 최종 결과 예측 \n",
    "test_X = test.drop(columns=['Reached.on.Time_Y.N'])\n",
    "test_y = test['Reached.on.Time_Y.N']\n",
    "pred_y = rfc.predict(test_X)\n",
    "#print(roc_auc_score(pred_y,test_y)) # 0.49\n",
    "#print(accuracy_score(pred_y,test_y)) # 0.54  >> 잘 안나오는데?\n",
    "# 최종결과 제출\n",
    "\n",
    "pd.DataFrame({'cust_id':test['ID'], 'reached_ontime':pred_y}).to_csv('2nd_test_type2.csv',index=False)\n",
    "print(pd.read_csv('2nd_test_type2.csv'))\n"
   ]
  },
  {
   "cell_type": "code",
   "execution_count": null,
   "id": "f70938b2",
   "metadata": {},
   "outputs": [],
   "source": []
  }
 ],
 "metadata": {
  "kernelspec": {
   "display_name": "yangjung-woo",
   "language": "python",
   "name": "yangjung-woo"
  },
  "language_info": {
   "codemirror_mode": {
    "name": "ipython",
    "version": 3
   },
   "file_extension": ".py",
   "mimetype": "text/x-python",
   "name": "python",
   "nbconvert_exporter": "python",
   "pygments_lexer": "ipython3",
   "version": "3.13.2"
  }
 },
 "nbformat": 4,
 "nbformat_minor": 5
}
