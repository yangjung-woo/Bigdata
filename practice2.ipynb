{
 "cells": [
  {
   "cell_type": "markdown",
   "id": "6a94d127",
   "metadata": {},
   "source": [
    "# 작업형 1유형\n",
    "- 주어진 코로나19 데이터활용해서 \n",
    "1. 코로나19 사망자가 가장 많이 발생한 나라 \n",
    "2. 사망자가 5번째로 적게 발생한 나라\n",
    "3. 1,2 수치 차이를 출력\n",
    "(조건) : 중복값 x , 특수문지 '-'가 포함된 데이터는 0으로 대체 "
   ]
  },
  {
   "cell_type": "code",
   "execution_count": 39,
   "id": "22d30f46",
   "metadata": {},
   "outputs": [
    {
     "name": "stdout",
     "output_type": "stream",
     "text": [
      "                                          Country  Deaths    Cases\n",
      "0                                            Peru  213769  3729879\n",
      "1                                        Bulgaria   37289  1183877\n",
      "2                          Bosnia and Herzegovina   15817   380749\n",
      "3                                         Hungary   46696  1940824\n",
      "4                                         Georgia   16847  1667453\n",
      "..                                            ...     ...      ...\n",
      "212                                  Vatican City       0       29\n",
      "213                              Falkland Islands       —     1831\n",
      "214  Saint Helena, Ascension and Tristan da Cunha       —        4\n",
      "215                Federated States of Micronesia       0       38\n",
      "216                              Marshall Islands       —       49\n",
      "\n",
      "[217 rows x 3 columns]\n",
      "1110232\n"
     ]
    }
   ],
   "source": [
    "import pandas as pd\n",
    "import numpy as np\n",
    "\n",
    "data = pd.read_csv('https://raw.githubusercontent.com/JEunJin/Bigdata_python/master/bigdata_csvfile/covid_death_bycountry.csv')\n",
    "print(data) # Deaths 에서 'ㅡ' 문자가 있음 \n",
    "\n",
    "# 대체 \n",
    "data['Deaths'] = data['Deaths'].replace('—',0)\n",
    "data['Deaths'] = data['Deaths'].astype(int)\n",
    "\n",
    "# Deaths 내림차순 \n",
    "data = data.sort_values('Deaths',ascending=False)\n",
    "#print(data['Deaths'].iloc[0]) # 최대값\n",
    "maxx = data['Deaths'].iloc[0]\n",
    "#print(data['Deaths'].iloc[-5]) # 뒤에서 5번째 값 \n",
    "minn = data['Deaths'].iloc[-5]\n",
    "\n",
    "result = maxx - minn\n",
    "print(result)\n"
   ]
  },
  {
   "cell_type": "markdown",
   "id": "8d68396f",
   "metadata": {},
   "source": [
    "# 작업형 1유형(2)\n",
    "- 2008년 7월 1일 데이터 중 출생률이 가장 높은 지역의 이름을 출력\n",
    "- 단, 결측값이 포함된 경우 해당 컬럼의 중앙값으로 대체 "
   ]
  },
  {
   "cell_type": "code",
   "execution_count": 22,
   "id": "cd9b7fe6",
   "metadata": {},
   "outputs": [
    {
     "name": "stdout",
     "output_type": "stream",
     "text": [
      "Gyeonggi-do\n"
     ]
    },
    {
     "name": "stderr",
     "output_type": "stream",
     "text": [
      "C:\\Users\\yee77\\AppData\\Local\\Temp\\ipykernel_12504\\659109069.py:13: SettingWithCopyWarning: \n",
      "A value is trying to be set on a copy of a slice from a DataFrame\n",
      "\n",
      "See the caveats in the documentation: https://pandas.pydata.org/pandas-docs/stable/user_guide/indexing.html#returning-a-view-versus-a-copy\n",
      "  data_2008.fillna(data_2008['Birth_rate'].median() , inplace=True)\n",
      "C:\\Users\\yee77\\AppData\\Local\\Temp\\ipykernel_12504\\659109069.py:15: SettingWithCopyWarning: \n",
      "A value is trying to be set on a copy of a slice from a DataFrame\n",
      "\n",
      "See the caveats in the documentation: https://pandas.pydata.org/pandas-docs/stable/user_guide/indexing.html#returning-a-view-versus-a-copy\n",
      "  data_2008.sort_values('Birth_rate',ascending=False, inplace=True)\n"
     ]
    }
   ],
   "source": [
    "import pandas as pd \n",
    "import numpy as np\n",
    "\n",
    "data = pd.read_csv('https://raw.githubusercontent.com/JEunJin/Bigdata_python/master/bigdata_csvfile/Korean_demographics_2000-2022.csv')\n",
    "#print(data['Date'])\n",
    "# 날짜가 나오면 to_datatime으로 Date형식으로 변경 \n",
    "data['Date'] = pd.to_datetime(data['Date'])\n",
    "data_2008 = data.loc[data['Date'] =='2008-07-01']\n",
    "\n",
    "# 출생률 : Birth_rate\n",
    "#data_2008.info()\n",
    "\n",
    "data_2008.fillna(data_2008['Birth_rate'].median() , inplace=True)\n",
    "\n",
    "data_2008.sort_values('Birth_rate',ascending=False, inplace=True)\n",
    "\n",
    "#print(data_2008)\n",
    "\n",
    "print(data_2008['Region'].iloc[0])\n"
   ]
  },
  {
   "cell_type": "markdown",
   "id": "fb7b1fe1",
   "metadata": {},
   "source": [
    "# 작업형 1유형 (3)\n",
    "- 수면시간(Sleep Duration) 컬럼과 가장 높은 상관관계를 갖는 변수의 최빈값을 구하시오 "
   ]
  }
 ],
 "metadata": {
  "kernelspec": {
   "display_name": "yangjung-woo",
   "language": "python",
   "name": "yangjung-woo"
  },
  "language_info": {
   "codemirror_mode": {
    "name": "ipython",
    "version": 3
   },
   "file_extension": ".py",
   "mimetype": "text/x-python",
   "name": "python",
   "nbconvert_exporter": "python",
   "pygments_lexer": "ipython3",
   "version": "3.13.2"
  }
 },
 "nbformat": 4,
 "nbformat_minor": 5
}
