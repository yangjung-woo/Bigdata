{
 "cells": [
  {
   "cell_type": "markdown",
   "id": "6a94d127",
   "metadata": {},
   "source": [
    "# 작업형 1유형\n",
    "- 주어진 코로나19 데이터활용해서 \n",
    "1. 코로나19 사망자가 가장 많이 발생한 나라 \n",
    "2. 사망자가 5번째로 적게 발생한 나라\n",
    "3. 1,2 수치 차이를 출력\n",
    "(조건) : 중복값 x , 특수문지 '-'가 포함된 데이터는 0으로 대체 "
   ]
  },
  {
   "cell_type": "code",
   "execution_count": null,
   "id": "22d30f46",
   "metadata": {},
   "outputs": [
    {
     "name": "stdout",
     "output_type": "stream",
     "text": [
      "                                          Country  Deaths    Cases\n",
      "0                                            Peru  213769  3729879\n",
      "1                                        Bulgaria   37289  1183877\n",
      "2                          Bosnia and Herzegovina   15817   380749\n",
      "3                                         Hungary   46696  1940824\n",
      "4                                         Georgia   16847  1667453\n",
      "..                                            ...     ...      ...\n",
      "212                                  Vatican City       0       29\n",
      "213                              Falkland Islands       —     1831\n",
      "214  Saint Helena, Ascension and Tristan da Cunha       —        4\n",
      "215                Federated States of Micronesia       0       38\n",
      "216                              Marshall Islands       —       49\n",
      "\n",
      "[217 rows x 3 columns]\n",
      "33     1110232\n",
      "20     1023736\n",
      "15      675090\n",
      "132     525660\n",
      "31      374062\n",
      "        ...   \n",
      "212          0\n",
      "213          0\n",
      "214          0\n",
      "215          0\n",
      "216          0\n",
      "Name: Deaths, Length: 217, dtype: int64\n"
     ]
    }
   ],
   "source": [
    "import pandas as pd\n",
    "import numpy as np\n",
    "\n",
    "data = pd.read_csv('https://raw.githubusercontent.com/JEunJin/Bigdata_python/master/bigdata_csvfile/covid_death_bycountry.csv')\n",
    "print(data) # Deaths 에서 'ㅡ' 문자가 있음 \n",
    "\n",
    "# 대체 \n",
    "data['Deaths'] = data['Deaths'].replace('—',0)\n",
    "data['Deaths'] = data['Deaths'].astype(int)\n",
    "\n",
    "# Deaths 내림차순 \n",
    "data = data.sort_values('Deaths',ascending=False)\n",
    "print(data['Deaths'])\n",
    "\n"
   ]
  }
 ],
 "metadata": {
  "kernelspec": {
   "display_name": "yangjung-woo",
   "language": "python",
   "name": "yangjung-woo"
  },
  "language_info": {
   "codemirror_mode": {
    "name": "ipython",
    "version": 3
   },
   "file_extension": ".py",
   "mimetype": "text/x-python",
   "name": "python",
   "nbconvert_exporter": "python",
   "pygments_lexer": "ipython3",
   "version": "3.13.2"
  }
 },
 "nbformat": 4,
 "nbformat_minor": 5
}
