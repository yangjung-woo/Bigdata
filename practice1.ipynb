{
 "cells": [
  {
   "cell_type": "markdown",
   "id": "1ecac02c",
   "metadata": {},
   "source": [
    "작업형 1유형 (1)\n",
    "- 주어진 데이터를 활용해서 결측값이 가장 많은 컬럼명을 확인 \n",
    "- 결측값을 최빈값으로 대체\n",
    "- 결측값 대체 전 컬럼 평균과 ,  대체 후 컬럼 평균의 차이를 구하시오 (소수점 3자리 까지 출력)\n"
   ]
  },
  {
   "cell_type": "code",
   "execution_count": 7,
   "id": "fc4e1e3c",
   "metadata": {},
   "outputs": [
    {
     "name": "stdout",
     "output_type": "stream",
     "text": [
      "<class 'pandas.core.frame.DataFrame'>\n",
      "RangeIndex: 153 entries, 0 to 152\n",
      "Data columns (total 6 columns):\n",
      " #   Column   Non-Null Count  Dtype  \n",
      "---  ------   --------------  -----  \n",
      " 0   Ozone    116 non-null    float64\n",
      " 1   Solar.R  146 non-null    float64\n",
      " 2   Wind     153 non-null    float64\n",
      " 3   Temp     153 non-null    int64  \n",
      " 4   Month    153 non-null    int64  \n",
      " 5   Day      153 non-null    int64  \n",
      "dtypes: float64(3), int64(3)\n",
      "memory usage: 7.3 KB\n",
      "None\n",
      "<class 'pandas.core.frame.DataFrame'>\n",
      "RangeIndex: 153 entries, 0 to 152\n",
      "Data columns (total 6 columns):\n",
      " #   Column   Non-Null Count  Dtype  \n",
      "---  ------   --------------  -----  \n",
      " 0   Ozone    153 non-null    float64\n",
      " 1   Solar.R  146 non-null    float64\n",
      " 2   Wind     153 non-null    float64\n",
      " 3   Temp     153 non-null    int64  \n",
      " 4   Month    153 non-null    int64  \n",
      " 5   Day      153 non-null    int64  \n",
      "dtypes: float64(3), int64(3)\n",
      "memory usage: 7.3 KB\n",
      "None\n",
      "4.626\n"
     ]
    }
   ],
   "source": [
    "import pandas as pd \n",
    "\n",
    "data = pd.read_csv('https://raw.githubusercontent.com/JEunJin/Bigdata_python/master/bigdata_csvfile/airquality.csv')\n",
    "print(data.info())# 결측값이 가장 많은 컬럼 : Ozone : 153-116 = 37개 \n",
    "\n",
    "# 결측치 최대값 대체 \n",
    "data_after = data.copy()\n",
    "data_after['Ozone'] = data_after['Ozone'].fillna(data_after['Ozone'].mode()[0])\n",
    "\n",
    "print(data_after.info()) # 결측치 대체가 완료됨 \n",
    "\n",
    "# 대체 전 컬럼 평균\n",
    "#print('before fillna mean: ',data['Ozone'].mean())\n",
    "#print('after fillna mean: ',data_after['Ozone'].mean())\n",
    "\n",
    "result = data['Ozone'].mean() - data_after['Ozone'].mean()\n",
    "print(round(result,3))"
   ]
  },
  {
   "cell_type": "markdown",
   "id": "f63121d3",
   "metadata": {},
   "source": [
    "# 1유형(2)\n",
    "- 주어진 와인데이터의 alchol 컬럼의 데이터를 최대-최소 정규화 \n",
    "- alchol 컬럼의 표준편차 구하시오 (자유도 0 , 연산결과는 반올림 후 3자리 까지지)"
   ]
  },
  {
   "cell_type": "code",
   "execution_count": 13,
   "id": "00954487",
   "metadata": {},
   "outputs": [
    {
     "name": "stdout",
     "output_type": "stream",
     "text": [
      "<class 'pandas.core.frame.DataFrame'>\n",
      "RangeIndex: 178 entries, 0 to 177\n",
      "Data columns (total 14 columns):\n",
      " #   Column                        Non-Null Count  Dtype  \n",
      "---  ------                        --------------  -----  \n",
      " 0   alcohol                       178 non-null    float64\n",
      " 1   malic_acid                    178 non-null    float64\n",
      " 2   ash                           178 non-null    float64\n",
      " 3   alcalinity_of_ash             178 non-null    float64\n",
      " 4   magnesium                     178 non-null    int64  \n",
      " 5   total_phenols                 178 non-null    float64\n",
      " 6   flavanoids                    178 non-null    float64\n",
      " 7   nonflavanoid_phenols          178 non-null    float64\n",
      " 8   proanthocyanins               178 non-null    float64\n",
      " 9   color_intensity               178 non-null    float64\n",
      " 10  hue                           178 non-null    float64\n",
      " 11  od280/od315_of_diluted_wines  178 non-null    float64\n",
      " 12  proline                       178 non-null    int64  \n",
      " 13  class                         178 non-null    int64  \n",
      "dtypes: float64(11), int64(3)\n",
      "memory usage: 19.6 KB\n",
      "None\n",
      "0.213\n"
     ]
    }
   ],
   "source": [
    "import pandas as pd \n",
    "from sklearn.preprocessing import MinMaxScaler\n",
    "data = pd.read_csv('https://raw.githubusercontent.com/JEunJin/Bigdata_python/master/bigdata_csvfile/wine_data.csv')\n",
    "print(data.info())\n",
    "scaler = MinMaxScaler()\n",
    "data['alcohol']=scaler.fit_transform(data[['alcohol']])\n",
    "\n",
    "# \n",
    "result = data['alcohol'].std(ddof=0)\n",
    "print(round(result,3))"
   ]
  },
  {
   "cell_type": "markdown",
   "id": "3c95f4ce",
   "metadata": {},
   "source": [
    "# 1유형(3)\n",
    "- 주어진 심장병 데이터의 chol 컬럼의 이상치 개수를 구하시오 (이상치 범위는 +- 1.5* IQR 이상 이하)"
   ]
  },
  {
   "cell_type": "code",
   "execution_count": null,
   "id": "d0539a68",
   "metadata": {},
   "outputs": [],
   "source": []
  }
 ],
 "metadata": {
  "kernelspec": {
   "display_name": "yangjung-woo",
   "language": "python",
   "name": "yangjung-woo"
  },
  "language_info": {
   "codemirror_mode": {
    "name": "ipython",
    "version": 3
   },
   "file_extension": ".py",
   "mimetype": "text/x-python",
   "name": "python",
   "nbconvert_exporter": "python",
   "pygments_lexer": "ipython3",
   "version": "3.13.2"
  }
 },
 "nbformat": 4,
 "nbformat_minor": 5
}
