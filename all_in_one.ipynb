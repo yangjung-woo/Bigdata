{
 "cells": [
  {
   "cell_type": "markdown",
   "id": "2baa67cd",
   "metadata": {},
   "source": [
    "# 1.작업형 1유형 (3문항)\n",
    "- 데이터 탐색\n",
    "- 데이터 전처리 "
   ]
  },
  {
   "cell_type": "code",
   "execution_count": 53,
   "id": "fd5ca186",
   "metadata": {},
   "outputs": [],
   "source": [
    "import pandas as pd\n",
    "import numpy as np\n",
    "import seaborn as sns\n",
    "import matplotlib.pyplot as plt\n"
   ]
  },
  {
   "cell_type": "code",
   "execution_count": 54,
   "id": "9bf95865",
   "metadata": {},
   "outputs": [
    {
     "name": "stdout",
     "output_type": "stream",
     "text": [
      "<class 'pandas.core.frame.DataFrame'>\n",
      "RangeIndex: 891 entries, 0 to 890\n",
      "Data columns (total 12 columns):\n",
      " #   Column       Non-Null Count  Dtype  \n",
      "---  ------       --------------  -----  \n",
      " 0   PassengerId  891 non-null    int64  \n",
      " 1   Survived     891 non-null    int64  \n",
      " 2   Pclass       891 non-null    int64  \n",
      " 3   Name         891 non-null    object \n",
      " 4   Sex          891 non-null    object \n",
      " 5   Age          714 non-null    float64\n",
      " 6   SibSp        891 non-null    int64  \n",
      " 7   Parch        891 non-null    int64  \n",
      " 8   Ticket       891 non-null    object \n",
      " 9   Fare         891 non-null    float64\n",
      " 10  Cabin        204 non-null    object \n",
      " 11  Embarked     889 non-null    object \n",
      "dtypes: float64(2), int64(5), object(5)\n",
      "memory usage: 83.7+ KB\n",
      "None\n",
      "   PassengerId  Survived  Pclass  \\\n",
      "0            1         0       3   \n",
      "1            2         1       1   \n",
      "2            3         1       3   \n",
      "3            4         1       1   \n",
      "4            5         0       3   \n",
      "\n",
      "                                                Name     Sex   Age  SibSp  \\\n",
      "0                            Braund, Mr. Owen Harris    male  22.0      1   \n",
      "1  Cumings, Mrs. John Bradley (Florence Briggs Th...  female  38.0      1   \n",
      "2                             Heikkinen, Miss. Laina  female  26.0      0   \n",
      "3       Futrelle, Mrs. Jacques Heath (Lily May Peel)  female  35.0      1   \n",
      "4                           Allen, Mr. William Henry    male  35.0      0   \n",
      "\n",
      "   Parch            Ticket     Fare Cabin Embarked  \n",
      "0      0         A/5 21171   7.2500   NaN        S  \n",
      "1      0          PC 17599  71.2833   C85        C  \n",
      "2      0  STON/O2. 3101282   7.9250   NaN        S  \n",
      "3      0            113803  53.1000  C123        S  \n",
      "4      0            373450   8.0500   NaN        S  \n"
     ]
    }
   ],
   "source": [
    "# 데이터 불러오고 기본정보 확인\n",
    "df = pd.read_csv('https://raw.githubusercontent.com/JEunJin/Bigdata_python/master/bigdata_csvfile/titanic.csv')\n",
    "print(df.info())\n",
    "print(df.head())"
   ]
  },
  {
   "cell_type": "code",
   "execution_count": 55,
   "id": "39701a8d",
   "metadata": {},
   "outputs": [
    {
     "data": {
      "text/plain": [
       "<Axes: xlabel='Sex', ylabel='count'>"
      ]
     },
     "execution_count": 55,
     "metadata": {},
     "output_type": "execute_result"
    },
    {
     "data": {
      "image/png": "[encoded data removed]",
      "text/plain": [
       "<Figure size 640x480 with 1 Axes>"
      ]
     },
     "metadata": {},
     "output_type": "display_data"
    }
   ],
   "source": [
    "# 데이터 시각화 \n",
    "df['Survived'].value_counts() # 생존 , 사망 수 확인 \n",
    "# 생존 = 1 , 사망 =0 을 범주형 변수로 변환  \n",
    "df['Survived(modify)'] = df['Survived'].replace([0,1],['Dead','Alive'])\n",
    "sns.countplot(data=df, x='Sex', hue='Survived(modify)')\n"
   ]
  },
  {
   "cell_type": "code",
   "execution_count": 56,
   "id": "d1d5a526",
   "metadata": {},
   "outputs": [
    {
     "data": {
      "text/plain": [
       "PassengerId           0\n",
       "Survived              0\n",
       "Pclass                0\n",
       "Name                  0\n",
       "Sex                   0\n",
       "Age                 177\n",
       "SibSp                 0\n",
       "Parch                 0\n",
       "Ticket                0\n",
       "Fare                  0\n",
       "Cabin               687\n",
       "Embarked              2\n",
       "Survived(modify)      0\n",
       "dtype: int64"
      ]
     },
     "execution_count": 56,
     "metadata": {},
     "output_type": "execute_result"
    }
   ],
   "source": [
    "# 데이터 전처리 \n",
    "df.isna().sum() # 각 컬럼 결측치 개수 확인 \n",
    "# df.info() 로도 가능 \n",
    "# Age , Cabin, Embark에 각 결측치가 존재\n"
   ]
  },
  {
   "cell_type": "code",
   "execution_count": 57,
   "id": "86cea169",
   "metadata": {},
   "outputs": [
    {
     "data": {
      "text/plain": [
       "PassengerId         0\n",
       "Survived            0\n",
       "Pclass              0\n",
       "Name                0\n",
       "Sex                 0\n",
       "SibSp               0\n",
       "Parch               0\n",
       "Ticket              0\n",
       "Fare                0\n",
       "Embarked            2\n",
       "Survived(modify)    0\n",
       "dtype: int64"
      ]
     },
     "execution_count": 57,
     "metadata": {},
     "output_type": "execute_result"
    }
   ],
   "source": [
    "# Age , Cabin은 결측치가 많으니 삭제 \n",
    "df_dropna = df.copy()\n",
    "df_dropna= df_dropna.drop(columns=['Age', 'Cabin'])\n",
    "df_dropna.isna().sum()"
   ]
  },
  {
   "cell_type": "code",
   "execution_count": 58,
   "id": "ac5b47d6",
   "metadata": {},
   "outputs": [
    {
     "data": {
      "text/plain": [
       "PassengerId         0\n",
       "Survived            0\n",
       "Pclass              0\n",
       "Name                0\n",
       "Sex                 0\n",
       "SibSp               0\n",
       "Parch               0\n",
       "Ticket              0\n",
       "Fare                0\n",
       "Embarked            0\n",
       "Survived(modify)    0\n",
       "dtype: int64"
      ]
     },
     "execution_count": 58,
     "metadata": {},
     "output_type": "execute_result"
    }
   ],
   "source": [
    "# 결측치가 2개밖에 없는 Embarked 는 결측치가 있는 행 제거 \n",
    "df_dropna2 = df_dropna.dropna()\n",
    "df_dropna2.isna().sum()"
   ]
  },
  {
   "cell_type": "code",
   "execution_count": 59,
   "id": "23ac8793",
   "metadata": {},
   "outputs": [
    {
     "data": {
      "image/png": "[encoded data removed]",
      "text/plain": [
       "<Figure size 640x480 with 1 Axes>"
      ]
     },
     "metadata": {},
     "output_type": "display_data"
    },
    {
     "name": "stdout",
     "output_type": "stream",
     "text": [
      "IQR: 1.5290591862838374\n",
      "[ 4.  6. -7. -5.]\n"
     ]
    }
   ],
   "source": [
    "# 이상치 처리 \n",
    "data = np.random.randn(50)\n",
    "data= np.concatenate((data, np.array([4,6,-7,-5]))) # 정규분포를 따르는 50개 표본에 4개 이상치를 추가\n",
    "\n",
    "# 이상치 검출 boxplot\n",
    "plt.boxplot(data)\n",
    "plt.show()\n",
    "\n",
    "# 이상치만 출력\n",
    "\n",
    "Q1,Q3 = np.percentile(data,[25,75])\n",
    "IQR = Q3-Q1\n",
    "print('IQR:',IQR)\n",
    "\n",
    "outlier = data[(Q1-1.5*IQR>data) | (Q3 +1.5*IQR<data)]\n",
    "print(outlier)\n",
    "\n"
   ]
  },
  {
   "cell_type": "code",
   "execution_count": 60,
   "id": "142480f6",
   "metadata": {},
   "outputs": [
    {
     "name": "stdout",
     "output_type": "stream",
     "text": [
      "  group    test_1    test_2\n",
      "0     A -2.720658 -1.204181\n",
      "1     B  0.898233  0.669140\n",
      "2     C -0.106295 -0.203630\n",
      "3     B -0.285036 -0.097769\n",
      "4     B -0.185651  0.436298\n",
      "5     C -1.148047 -1.574791\n",
      "6     A  0.443034 -0.272893\n",
      "7     C -1.298059  0.903482\n",
      "8     A -2.071952  0.140062\n",
      "9     B  0.732238 -0.977259\n",
      "  group    test_1    test_2\n",
      "0     A -2.720658 -1.204181\n",
      "1     B  0.500000  0.500000\n",
      "2     C -0.106295 -0.203630\n",
      "3     B -0.285036 -0.097769\n",
      "4     B  0.500000  0.500000\n",
      "5     C -1.148047 -1.574791\n",
      "6     A  0.443034 -0.272893\n",
      "7     C -1.298059  0.903482\n",
      "8     A -2.071952  0.140062\n",
      "9     B  0.732238 -0.977259\n",
      "  group  test_1  test_2\n",
      "4     B     0.5     0.5\n",
      "  group    test_1    test_2\n",
      "0     A -2.720658 -1.204181\n",
      "1     B  0.500000  0.500000\n",
      "2     C -0.106295 -0.203630\n",
      "3     B -0.285036 -0.097769\n",
      "5     C -1.148047 -1.574791\n",
      "6     A  0.443034 -0.272893\n",
      "7     C -1.298059  0.903482\n",
      "8     A -2.071952  0.140062\n",
      "9     B  0.732238 -0.977259\n"
     ]
    }
   ],
   "source": [
    "# 중복값 처리 \n",
    "df = pd.DataFrame({'group':['A','B','C','B','B','C','A','C','A','B'], 'test_1':np.random.randn(10),'test_2':np.random.randn(10)})\n",
    "print(df)\n",
    "\n",
    "df.loc[[1,4],['test_1','test_2']] =0.5\n",
    "print(df)# 중복값 데이터  \n",
    "\n",
    "print(df[df.duplicated()])# 중복 데이터 위치 확인 \n",
    "df.drop_duplicates(inplace=True) # 중복값 데이터 행 전체 제거 \n",
    "\n",
    "print(df)\n"
   ]
  },
  {
   "cell_type": "code",
   "execution_count": 61,
   "id": "1860515d",
   "metadata": {},
   "outputs": [
    {
     "name": "stdout",
     "output_type": "stream",
     "text": [
      "   sepal_length  sepal_width  petal_length  petal_width  species\n",
      "0           5.1          3.5           1.4          0.2        0\n",
      "1           4.9          3.0           1.4          0.2        0\n",
      "2           4.7          3.2           1.3          0.2        0\n",
      "3           4.6          3.1           1.5          0.2        0\n",
      "4           5.0          3.6           1.4          0.2        0\n"
     ]
    }
   ],
   "source": [
    "from sklearn.preprocessing import LabelEncoder\n",
    "# 데이터 변환 (라벨인코더)\n",
    "df = pd.read_csv('https://raw.githubusercontent.com/JEunJin/Bigdata_python/master/bigdata_csvfile/iris.csv')\n",
    "le = LabelEncoder()\n",
    "# species 행에 해당하는 데이터들을 연속형 변수(라벨인코더)로 변환하시오\n",
    "df['species'] = le.fit_transform(df['species'])\n",
    "\n",
    "print(df.head())\n"
   ]
  },
  {
   "cell_type": "code",
   "execution_count": 62,
   "id": "69741bc5",
   "metadata": {},
   "outputs": [
    {
     "name": "stdout",
     "output_type": "stream",
     "text": [
      "     sepal_length  sepal_width  petal_length  petal_width  species_versicolor  \\\n",
      "0             5.1          3.5           1.4          0.2               False   \n",
      "1             4.9          3.0           1.4          0.2               False   \n",
      "2             4.7          3.2           1.3          0.2               False   \n",
      "3             4.6          3.1           1.5          0.2               False   \n",
      "4             5.0          3.6           1.4          0.2               False   \n",
      "..            ...          ...           ...          ...                 ...   \n",
      "145           6.7          3.0           5.2          2.3               False   \n",
      "146           6.3          2.5           5.0          1.9               False   \n",
      "147           6.5          3.0           5.2          2.0               False   \n",
      "148           6.2          3.4           5.4          2.3               False   \n",
      "149           5.9          3.0           5.1          1.8               False   \n",
      "\n",
      "     species_virginica  \n",
      "0                False  \n",
      "1                False  \n",
      "2                False  \n",
      "3                False  \n",
      "4                False  \n",
      "..                 ...  \n",
      "145               True  \n",
      "146               True  \n",
      "147               True  \n",
      "148               True  \n",
      "149               True  \n",
      "\n",
      "[150 rows x 6 columns]\n"
     ]
    }
   ],
   "source": [
    "# 원-핫 인코더 사용 \n",
    "\n",
    "df_iris = pd.read_csv('https://raw.githubusercontent.com/JEunJin/Bigdata_python/master/bigdata_csvfile/iris.csv')\n",
    "df_iris = pd.get_dummies(df_iris, columns=['species'], drop_first=True)\n",
    "\n",
    "print(df_iris)\n"
   ]
  },
  {
   "cell_type": "code",
   "execution_count": 63,
   "id": "b608b340",
   "metadata": {},
   "outputs": [
    {
     "data": {
      "text/plain": [
       "<matplotlib.legend.Legend at 0x22a42bca850>"
      ]
     },
     "execution_count": 63,
     "metadata": {},
     "output_type": "execute_result"
    },
    {
     "data": {
      "image/png": "[encoded data removed]",
      "text/plain": [
       "<Figure size 640x480 with 1 Axes>"
      ]
     },
     "metadata": {},
     "output_type": "display_data"
    }
   ],
   "source": [
    "# 데이터 표준화 (standard scaler 정규분포화 )\n",
    "from sklearn.preprocessing import StandardScaler\n",
    "from sklearn.model_selection import train_test_split\n",
    "df_iris = pd.read_csv('https://raw.githubusercontent.com/JEunJin/Bigdata_python/master/bigdata_csvfile/iris.csv')\n",
    "\n",
    "# 데이터 분할\n",
    "target = 'species'\n",
    "x = df_iris.drop(columns=target)\n",
    "y = df_iris[target]\n",
    "train_x , test_x , train_y , test_y = train_test_split(x,y,test_size=0.2,stratify=y)\n",
    "\n",
    "# 데이터 표준화 \n",
    "scaler = StandardScaler()\n",
    "train_x = scaler.fit_transform(train_x)\n",
    "plt.hist(train_x)\n",
    "plt.legend(['sepal_length','sepal_width','petal_length','petal_width'])\n",
    "\n"
   ]
  },
  {
   "cell_type": "code",
   "execution_count": 64,
   "id": "f6710873",
   "metadata": {},
   "outputs": [
    {
     "data": {
      "text/plain": [
       "<matplotlib.legend.Legend at 0x22a42df7c50>"
      ]
     },
     "execution_count": 64,
     "metadata": {},
     "output_type": "execute_result"
    },
    {
     "data": {
      "image/png": "[encoded data removed]",
      "text/plain": [
       "<Figure size 640x480 with 1 Axes>"
      ]
     },
     "metadata": {},
     "output_type": "display_data"
    }
   ],
   "source": [
    "# 데이터 표준화 (Minmax Scaler 최대 최소분포화 )\n",
    "from sklearn.preprocessing import MinMaxScaler\n",
    "from sklearn.model_selection import train_test_split\n",
    "df_iris = pd.read_csv('https://raw.githubusercontent.com/JEunJin/Bigdata_python/master/bigdata_csvfile/iris.csv')\n",
    "\n",
    "# 데이터 분할\n",
    "target = 'species'\n",
    "x = df_iris.drop(columns=target)\n",
    "y = df_iris[target]\n",
    "train_x , test_x , train_y , test_y = train_test_split(x,y,test_size=0.2,stratify=y)\n",
    "\n",
    "# 데이터 표준화 \n",
    "scaler = MinMaxScaler()\n",
    "train_x = scaler.fit_transform(train_x)\n",
    "plt.hist(train_x)\n",
    "plt.legend(['sepal_length','sepal_width','petal_length','petal_width'])\n",
    "\n"
   ]
  },
  {
   "cell_type": "code",
   "execution_count": 65,
   "id": "b8655ada",
   "metadata": {},
   "outputs": [],
   "source": [
    "# 데이터 평활화  \n",
    "\n",
    "# 시계열 데이터를 받아온다면 시행해보자 "
   ]
  },
  {
   "cell_type": "markdown",
   "id": "f683a1de",
   "metadata": {},
   "source": [
    "# 2. 작업형 2유형 (1문항)\n",
    "- 데이터 분석 절차\n",
    "- 데이터 분석 모델 설계계"
   ]
  },
  {
   "cell_type": "code",
   "execution_count": 66,
   "id": "89652892",
   "metadata": {},
   "outputs": [
    {
     "name": "stdout",
     "output_type": "stream",
     "text": [
      "<class 'pandas.core.frame.DataFrame'>\n",
      "RangeIndex: 891 entries, 0 to 890\n",
      "Data columns (total 12 columns):\n",
      " #   Column       Non-Null Count  Dtype  \n",
      "---  ------       --------------  -----  \n",
      " 0   PassengerId  891 non-null    int64  \n",
      " 1   Survived     891 non-null    int64  \n",
      " 2   Pclass       891 non-null    int64  \n",
      " 3   Name         891 non-null    object \n",
      " 4   Sex          891 non-null    object \n",
      " 5   Age          714 non-null    float64\n",
      " 6   SibSp        891 non-null    int64  \n",
      " 7   Parch        891 non-null    int64  \n",
      " 8   Ticket       891 non-null    object \n",
      " 9   Fare         891 non-null    float64\n",
      " 10  Cabin        204 non-null    object \n",
      " 11  Embarked     889 non-null    object \n",
      "dtypes: float64(2), int64(5), object(5)\n",
      "memory usage: 83.7+ KB\n",
      "None\n",
      "   PassengerId  Survived  Pclass  \\\n",
      "0            1         0       3   \n",
      "1            2         1       1   \n",
      "2            3         1       3   \n",
      "3            4         1       1   \n",
      "4            5         0       3   \n",
      "\n",
      "                                                Name     Sex   Age  SibSp  \\\n",
      "0                            Braund, Mr. Owen Harris    male  22.0      1   \n",
      "1  Cumings, Mrs. John Bradley (Florence Briggs Th...  female  38.0      1   \n",
      "2                             Heikkinen, Miss. Laina  female  26.0      0   \n",
      "3       Futrelle, Mrs. Jacques Heath (Lily May Peel)  female  35.0      1   \n",
      "4                           Allen, Mr. William Henry    male  35.0      0   \n",
      "\n",
      "   Parch            Ticket     Fare Cabin Embarked  \n",
      "0      0         A/5 21171   7.2500   NaN        S  \n",
      "1      0          PC 17599  71.2833   C85        C  \n",
      "2      0  STON/O2. 3101282   7.9250   NaN        S  \n",
      "3      0            113803  53.1000  C123        S  \n",
      "4      0            373450   8.0500   NaN        S  \n"
     ]
    }
   ],
   "source": [
    "# 데이터 불러오고 기본정보 확인\n",
    "df = pd.read_csv('https://raw.githubusercontent.com/JEunJin/Bigdata_python/master/bigdata_csvfile/titanic.csv')\n",
    "print(df.info())\n",
    "print(df.head())"
   ]
  },
  {
   "cell_type": "code",
   "execution_count": 67,
   "id": "0b6b970f",
   "metadata": {},
   "outputs": [
    {
     "name": "stderr",
     "output_type": "stream",
     "text": [
      "C:\\Users\\yee77\\AppData\\Local\\Temp\\ipykernel_17404\\357190917.py:3: FutureWarning: A value is trying to be set on a copy of a DataFrame or Series through chained assignment using an inplace method.\n",
      "The behavior will change in pandas 3.0. This inplace method will never work because the intermediate object on which we are setting values always behaves as a copy.\n",
      "\n",
      "For example, when doing 'df[col].method(value, inplace=True)', try using 'df.method({col: value}, inplace=True)' or df[col] = df[col].method(value) instead, to perform the operation inplace on the original object.\n",
      "\n",
      "\n",
      "  df['Age'].fillna(df['Age'].mode()[0], inplace=True)\n",
      "C:\\Users\\yee77\\AppData\\Local\\Temp\\ipykernel_17404\\357190917.py:4: FutureWarning: A value is trying to be set on a copy of a DataFrame or Series through chained assignment using an inplace method.\n",
      "The behavior will change in pandas 3.0. This inplace method will never work because the intermediate object on which we are setting values always behaves as a copy.\n",
      "\n",
      "For example, when doing 'df[col].method(value, inplace=True)', try using 'df.method({col: value}, inplace=True)' or df[col] = df[col].method(value) instead, to perform the operation inplace on the original object.\n",
      "\n",
      "\n",
      "  df['Embarked'].fillna(df['Embarked'].mode()[0], inplace=True)\n"
     ]
    }
   ],
   "source": [
    "# 데이터 전처리 (불필요한 컬럼 제거, 결측값 대체, 라벨 인코딩)\n",
    "df = df.drop(columns=['PassengerId','Cabin','Name','Ticket'])\n",
    "df['Age'].fillna(df['Age'].mode()[0], inplace=True)\n",
    "df['Embarked'].fillna(df['Embarked'].mode()[0], inplace=True)\n",
    "\n",
    "le = LabelEncoder()\n",
    "df['Sex']=le.fit_transform(df['Sex'])\n",
    "df['Embarked'] = le.fit_transform(df['Embarked'])\n"
   ]
  },
  {
   "cell_type": "code",
   "execution_count": 68,
   "id": "6059c77f",
   "metadata": {},
   "outputs": [
    {
     "name": "stdout",
     "output_type": "stream",
     "text": [
      "     Pclass  Sex   Age  SibSp  Parch     Fare  Embarked\n",
      "0         3    1  22.0      1      0   7.2500         2\n",
      "1         1    0  38.0      1      0  71.2833         0\n",
      "2         3    0  26.0      0      0   7.9250         2\n",
      "3         1    0  35.0      1      0  53.1000         2\n",
      "4         3    1  35.0      0      0   8.0500         2\n",
      "..      ...  ...   ...    ...    ...      ...       ...\n",
      "886       2    1  27.0      0      0  13.0000         2\n",
      "887       1    0  19.0      0      0  30.0000         2\n",
      "888       3    0  24.0      1      2  23.4500         2\n",
      "889       1    1  26.0      0      0  30.0000         0\n",
      "890       3    1  32.0      0      0   7.7500         1\n",
      "\n",
      "[891 rows x 7 columns]\n",
      "     Survived\n",
      "0           0\n",
      "1           1\n",
      "2           1\n",
      "3           1\n",
      "4           0\n",
      "..        ...\n",
      "886         0\n",
      "887         1\n",
      "888         0\n",
      "889         1\n",
      "890         0\n",
      "\n",
      "[891 rows x 1 columns]\n"
     ]
    }
   ],
   "source": [
    "# 데이터 분할\n",
    "target = ['Survived']\n",
    "x = df.drop(columns=target)\n",
    "y = df[target]\n",
    "x_train , x_test , y_train , y_test = train_test_split(x,y,test_size=0.2,stratify=y)\n",
    "print(x)\n",
    "print(y)"
   ]
  },
  {
   "cell_type": "code",
   "execution_count": 69,
   "id": "68a582b1",
   "metadata": {},
   "outputs": [
    {
     "name": "stdout",
     "output_type": "stream",
     "text": [
      "accuracy_score: 0.8156424581005587\n",
      "f1_score: 0.8156424581005587\n",
      "[[99 11]\n",
      " [22 47]]\n"
     ]
    },
    {
     "name": "stderr",
     "output_type": "stream",
     "text": [
      "c:\\Users\\yee77\\AppData\\Local\\Programs\\Python\\Python313\\Lib\\site-packages\\sklearn\\base.py:1389: DataConversionWarning: A column-vector y was passed when a 1d array was expected. Please change the shape of y to (n_samples,), for example using ravel().\n",
      "  return fit_method(estimator, *args, **kwargs)\n"
     ]
    }
   ],
   "source": [
    "# 데이터 분석 (분류 문제)\n",
    "from sklearn.ensemble import RandomForestClassifier\n",
    "from sklearn.linear_model import LogisticRegression\n",
    "from sklearn.svm import SVC # 서포트 벡터머신 classifier\n",
    "from sklearn.tree import DecisionTreeClassifier\n",
    "from sklearn.metrics import confusion_matrix\n",
    "from sklearn.metrics import accuracy_score, f1_score\n",
    "\n",
    "# 랜덤포레스트 모델 \n",
    "rfc =RandomForestClassifier(n_estimators= 120, max_depth=20, random_state=2024)\n",
    "rfc.fit(x_train,y_train)\n",
    "\n",
    "# 로지스틱 회귀 모델 로드 \n",
    "# lr = LogisticRegression()\n",
    "\n",
    "# K-NN 모델 로드 \n",
    "# knn = KNeighborsClassifier()\n",
    "\n",
    "# 서포트 벡터 머신 (분류)\n",
    "# svc = SVC(kernel='rbf')\n",
    "\n",
    "# 의사결정나무 모델 로드 \n",
    "# dtc = DecisionTreeClassifier()\n",
    "\n",
    "y_pred = rfc.predict(x_test)\n",
    "\n",
    "\n",
    "# 모델 성능평가 \n",
    "score = accuracy_score(y_test,y_pred)\n",
    "print('accuracy_score:',score)\n",
    "F1_score = f1_score(y_test, y_pred , average='micro')\n",
    "print('f1_score:',F1_score)\n",
    "# 혼동행렬 출력 \n",
    "print(confusion_matrix(y_test,y_pred))\n"
   ]
  },
  {
   "cell_type": "code",
   "execution_count": 70,
   "id": "f5508aa7",
   "metadata": {},
   "outputs": [
    {
     "name": "stdout",
     "output_type": "stream",
     "text": [
      "                 TV     Radio  Newspaper     Sales\n",
      "TV         1.000000  0.054809   0.056648  0.901208\n",
      "Radio      0.054809  1.000000   0.354104  0.349631\n",
      "Newspaper  0.056648  0.354104   1.000000  0.157960\n",
      "Sales      0.901208  0.349631   0.157960  1.000000\n",
      "\n",
      "r2: 0.34899230302242945\n",
      "mae: 0.29461034723012525\n",
      "mse: 0.15421330233325306\n",
      "\n",
      "r2: -0.18840921179992565\n",
      "mae: 0.389972873045866\n",
      "mse: 0.28151511867798873\n",
      "\n",
      "r2: 0.16662869638413125\n",
      "mae: 0.20344506517690877\n",
      "mse: 0.1974123215394165\n"
     ]
    },
    {
     "name": "stderr",
     "output_type": "stream",
     "text": [
      "c:\\Users\\yee77\\AppData\\Local\\Programs\\Python\\Python313\\Lib\\site-packages\\sklearn\\utils\\validation.py:1408: DataConversionWarning: A column-vector y was passed when a 1d array was expected. Please change the shape of y to (n_samples, ), for example using ravel().\n",
      "  y = column_or_1d(y, warn=True)\n"
     ]
    }
   ],
   "source": [
    "# 데이터 분석 (회귀) 문제\n",
    "from sklearn.linear_model import LinearRegression # 선형회귀분석\n",
    "from sklearn.svm import SVR # SVM Regressor \n",
    "from sklearn.tree import DecisionTreeRegressor\n",
    "from sklearn.metrics import r2_score\n",
    "\n",
    "# 평가지표 \n",
    "from sklearn.metrics import mean_absolute_error , mean_squared_error # MAE , MSE \n",
    "# 시각화 라이브러리 \n",
    "import matplotlib.pyplot as plt\n",
    "from mpl_toolkits.mplot3d import Axes3D\n",
    "\n",
    "\n",
    "# 데이터 탐색\n",
    "df = pd.read_csv('https://raw.githubusercontent.com/JEunJin/BigData_python/master/bigdata_csvfile/advertising.csv')\n",
    "# print(df.info())\n",
    "# print(df.head())\n",
    "\n",
    "# 상관관계 분석\n",
    "corr =df.corr(method='pearson') # 피어슨 상관분석 \n",
    "print(corr)\n",
    "print()\n",
    "# 단순 선형 회귀 모델 로드 \n",
    "lr = LinearRegression()\n",
    "lr.fit(x_train,y_train)\n",
    "y_pred = lr.predict(x_test)\n",
    "\n",
    "# 모델 성능 평가 \n",
    "r2 = r2_score(y_test, y_pred)\n",
    "print('r2:',r2)\n",
    "mae = mean_absolute_error(y_test,y_pred)\n",
    "print('mae:',mae)\n",
    "mse = mean_squared_error(y_test,y_pred)\n",
    "print('mse:',mse)\n",
    "print()\n",
    "\n",
    "# SVM (회귀) 모델 로드 \n",
    "svr =SVR(kernel='poly') # kernel: 커널함수 선택('linear','sigmoid','rbf','poly')\n",
    "svr.fit(x_train,y_train)\n",
    "y_pred = svr.predict(x_test)\n",
    "\n",
    "# 모델 성능 평가 \n",
    "r2 = r2_score(y_test, y_pred)\n",
    "print('r2:',r2)\n",
    "mae = mean_absolute_error(y_test,y_pred)\n",
    "print('mae:',mae)\n",
    "mse = mean_squared_error(y_test,y_pred)\n",
    "print('mse:',mse)\n",
    "print()\n",
    "\n",
    "# 의사결정나무 (회귀) 모델 로드\n",
    "dtr = DecisionTreeRegressor()\n",
    "dtr.fit(x_train,y_train)\n",
    "y_pred = dtr.predict(x_test)\n",
    "\n",
    "# 모델 성능 평가 \n",
    "r2 = r2_score(y_test, y_pred)\n",
    "print('r2:',r2)\n",
    "mae = mean_absolute_error(y_test,y_pred)\n",
    "print('mae:',mae)\n",
    "mse = mean_squared_error(y_test,y_pred)\n",
    "print('mse:',mse)\n",
    "\n",
    "# # 모델 성능 평가 \n",
    "# r2 = r2_score(y_test, y_pred)\n",
    "# print('r2:',r2)\n",
    "# mae = mean_absolute_error(y_test,y_pred)\n",
    "# print('mae:',mae)\n",
    "# mse = mean_squared_error(y_test,y_pred)\n",
    "# print('mse:',mse)\n"
   ]
  },
  {
   "cell_type": "code",
   "execution_count": 71,
   "id": "9f9a4cc7",
   "metadata": {},
   "outputs": [
    {
     "name": "stdout",
     "output_type": "stream",
     "text": [
      "<class 'pandas.core.frame.DataFrame'>\n",
      "RangeIndex: 150 entries, 0 to 149\n",
      "Data columns (total 5 columns):\n",
      " #   Column        Non-Null Count  Dtype  \n",
      "---  ------        --------------  -----  \n",
      " 0   sepal_length  150 non-null    float64\n",
      " 1   sepal_width   150 non-null    float64\n",
      " 2   petal_length  150 non-null    float64\n",
      " 3   petal_width   150 non-null    float64\n",
      " 4   species       150 non-null    object \n",
      "dtypes: float64(4), object(1)\n",
      "memory usage: 6.0+ KB\n",
      "None\n",
      "   sepal_length  sepal_width  petal_length  petal_width species\n",
      "0           5.1          3.5           1.4          0.2  setosa\n",
      "1           4.9          3.0           1.4          0.2  setosa\n",
      "2           4.7          3.2           1.3          0.2  setosa\n",
      "3           4.6          3.1           1.5          0.2  setosa\n",
      "4           5.0          3.6           1.4          0.2  setosa\n"
     ]
    },
    {
     "data": {
      "image/png": "[encoded data removed]",
      "text/plain": [
       "<Figure size 500x500 with 1 Axes>"
      ]
     },
     "metadata": {},
     "output_type": "display_data"
    }
   ],
   "source": [
    "# 비지도학습 (군집분석)\n",
    "from sklearn.preprocessing import LabelEncoder\n",
    "from sklearn.cluster import KMeans\n",
    "df =pd.read_csv('https://raw.githubusercontent.com/JEunJin/BigData_python/master/bigdata_csvfile/iris.csv')\n",
    "print(df.info())\n",
    "print(df.head())\n",
    "\n",
    "# 데이터 전처리(라벨링)\n",
    "\n",
    "le =LabelEncoder()\n",
    "df['species'] = le.fit_transform(df['species'])\n",
    "\n",
    "# K-means 클러스터링 모델 \n",
    "cluster = KMeans(n_clusters=3, n_init=10, max_iter=500,random_state=2024,algorithm='lloyd')\n",
    "\n",
    "cluster.fit(df)\n",
    "y_pred = cluster.predict(df)\n",
    "\n",
    "# 군집분석 성능평가 및 시각화 \n",
    "\n",
    "scope= range(1,15)\n",
    "inertias=[]\n",
    "\n",
    "for i in scope: # K-means 의 클러스터 개수 별 성능을 평가하기 위한 지표표\n",
    "    model = KMeans(n_clusters=i)\n",
    "    model.fit(df)\n",
    "    inertias.append(model.inertia_) # inertia 가 무슨 의미일까??\n",
    "\n",
    "plt.figure(figsize=(5,5))\n",
    "plt.plot(scope, inertias,'-s')\n",
    "plt.xlabel('number of K')\n",
    "plt.ylabel('inertia')\n",
    "plt.show()\n",
    "\n"
   ]
  },
  {
   "cell_type": "code",
   "execution_count": 72,
   "id": "92590a75",
   "metadata": {},
   "outputs": [
    {
     "name": "stdout",
     "output_type": "stream",
     "text": [
      "   Apple  Banana   Beer   Book  Chair  Cheese  Coffee    Cup  Diaper   Milk\n",
      "0  False   False   True   True  False    True    True  False   False   True\n",
      "1  False   False   True   True  False    True   False  False   False   True\n",
      "2  False    True  False  False  False   False    True  False   False   True\n",
      "3   True   False  False   True  False   False    True   True   False  False\n",
      "4  False   False   True  False   True   False   False   True    True   True\n",
      "   support      itemsets\n",
      "0      0.6        (Beer)\n",
      "1      0.6        (Book)\n",
      "2      0.6      (Coffee)\n",
      "3      0.8        (Milk)\n",
      "4      0.6  (Beer, Milk)\n"
     ]
    },
    {
     "data": {
      "text/html": [
       "<div>\n",
       "<style scoped>\n",
       "    .dataframe tbody tr th:only-of-type {\n",
       "        vertical-align: middle;\n",
       "    }\n",
       "\n",
       "    .dataframe tbody tr th {\n",
       "        vertical-align: top;\n",
       "    }\n",
       "\n",
       "    .dataframe thead th {\n",
       "        text-align: right;\n",
       "    }\n",
       "</style>\n",
       "<table border=\"1\" class=\"dataframe\">\n",
       "  <thead>\n",
       "    <tr style=\"text-align: right;\">\n",
       "      <th></th>\n",
       "      <th>antecedents</th>\n",
       "      <th>consequents</th>\n",
       "      <th>antecedent support</th>\n",
       "      <th>consequent support</th>\n",
       "      <th>support</th>\n",
       "      <th>confidence</th>\n",
       "      <th>lift</th>\n",
       "      <th>representativity</th>\n",
       "      <th>leverage</th>\n",
       "      <th>conviction</th>\n",
       "      <th>zhangs_metric</th>\n",
       "      <th>jaccard</th>\n",
       "      <th>certainty</th>\n",
       "      <th>kulczynski</th>\n",
       "    </tr>\n",
       "  </thead>\n",
       "  <tbody>\n",
       "    <tr>\n",
       "      <th>0</th>\n",
       "      <td>(Beer)</td>\n",
       "      <td>(Milk)</td>\n",
       "      <td>0.6</td>\n",
       "      <td>0.8</td>\n",
       "      <td>0.6</td>\n",
       "      <td>1.00</td>\n",
       "      <td>1.25</td>\n",
       "      <td>1.0</td>\n",
       "      <td>0.12</td>\n",
       "      <td>inf</td>\n",
       "      <td>0.5</td>\n",
       "      <td>0.75</td>\n",
       "      <td>1.000</td>\n",
       "      <td>0.875</td>\n",
       "    </tr>\n",
       "    <tr>\n",
       "      <th>1</th>\n",
       "      <td>(Milk)</td>\n",
       "      <td>(Beer)</td>\n",
       "      <td>0.8</td>\n",
       "      <td>0.6</td>\n",
       "      <td>0.6</td>\n",
       "      <td>0.75</td>\n",
       "      <td>1.25</td>\n",
       "      <td>1.0</td>\n",
       "      <td>0.12</td>\n",
       "      <td>1.6</td>\n",
       "      <td>1.0</td>\n",
       "      <td>0.75</td>\n",
       "      <td>0.375</td>\n",
       "      <td>0.875</td>\n",
       "    </tr>\n",
       "  </tbody>\n",
       "</table>\n",
       "</div>"
      ],
      "text/plain": [
       "  antecedents consequents  antecedent support  consequent support  support  \\\n",
       "0      (Beer)      (Milk)                 0.6                 0.8      0.6   \n",
       "1      (Milk)      (Beer)                 0.8                 0.6      0.6   \n",
       "\n",
       "   confidence  lift  representativity  leverage  conviction  zhangs_metric  \\\n",
       "0        1.00  1.25               1.0      0.12         inf            0.5   \n",
       "1        0.75  1.25               1.0      0.12         1.6            1.0   \n",
       "\n",
       "   jaccard  certainty  kulczynski  \n",
       "0     0.75      1.000       0.875  \n",
       "1     0.75      0.375       0.875  "
      ]
     },
     "metadata": {},
     "output_type": "display_data"
    }
   ],
   "source": [
    "# A-priori 알고리즘 연관성 분석 \n",
    "from mlxtend.preprocessing import TransactionEncoder# 일반적인 데이터를 배열 형식으로 변환(원 핫 인코딩 형식으로 변환)\n",
    "from mlxtend.frequent_patterns import apriori , association_rules # 연관성분석 \n",
    "\n",
    "data = [['Coffee','Beer','Cheese','Milk','Book'],\n",
    "        ['Beer','Cheese','Milk','Book'],\n",
    "        ['Coffee','Banana','Milk'],\n",
    "        ['Coffee','Apple','Cup','Book'],\n",
    "        ['Cup','Beer','Chair','Diaper','Milk']\n",
    "]\n",
    "\n",
    "te = TransactionEncoder()\n",
    "te_arr = te.fit(data).transform(data)\n",
    "\n",
    "df = pd.DataFrame(te_arr, columns=te.columns_)\n",
    "print(df) # 원-핫 인코딩된 numpy 배열 생성 \n",
    "\n",
    "# A-priori 알고리즘 적용\n",
    "frequent_items = apriori(df,min_support=0.5, use_colnames=True) # 최소 지지도 : 0.5 , 반환된 데이터프레임의 열 인덱스(False) 대신 이름을 사용(True)\n",
    "print(frequent_items)\n",
    "\n",
    "# 연관성분석 결과 확인 \n",
    "result = association_rules(frequent_items, metric='confidence',min_threshold=0.6,num_itemsets=5) # 최소 신뢰도 0.6, 총 거래건수 (행)은 5개 이므로 num_itemsets = 5\n",
    "display(result)\n",
    "# 우유와 맥주의 신뢰도는 1.0 , 지지도는 0.6 ,향상도는 1.25로 높은 연관성이 있음을 확인할 수 있다 "
   ]
  },
  {
   "cell_type": "markdown",
   "id": "043681f8",
   "metadata": {},
   "source": [
    "# 3. 작업형 3유형 (6문항)\n",
    "- 가설검정"
   ]
  },
  {
   "cell_type": "code",
   "execution_count": 73,
   "id": "44baf7d2",
   "metadata": {},
   "outputs": [
    {
     "name": "stdout",
     "output_type": "stream",
     "text": [
      "                 purchase  non_purchase\n",
      "laptop                540           160\n",
      "TV                    370           230\n",
      "air_conditioner       310           490\n",
      "refrigerator          120           380\n",
      "Chi2: 412.5814521496824\n",
      "p_value: 4.1669638825802086e-89\n"
     ]
    }
   ],
   "source": [
    "purchase= pd.DataFrame({'purchase':[540,370,310,120]},\n",
    "                       index=['laptop','TV','air_conditioner','refrigerator'])\n",
    "\n",
    "non_purchase = pd.DataFrame({'non_purchase':[160,230,490,380]},\n",
    "                       index=['laptop','TV','air_conditioner','refrigerator'])\n",
    "\n",
    "df = pd.concat([purchase,non_purchase],axis=1) # 열 방향으로 합치기 \n",
    "print(df)\n",
    "\n",
    "# 카이제곱 동질성 검정 \n",
    "from scipy.stats import chi2_contingency\n",
    "\n",
    "chi2,p_val,dof,exp = chi2_contingency(df)\n",
    "print('Chi2:',chi2) # 카이제곱 통계량\n",
    "print('p_value:',p_val) # p-value"
   ]
  },
  {
   "cell_type": "code",
   "execution_count": 74,
   "id": "40d244f4",
   "metadata": {},
   "outputs": [
    {
     "name": "stdout",
     "output_type": "stream",
     "text": [
      "기대빈도:  69\n",
      "chi: 25.73913043478261\n",
      "p_value: 3.57175522430071e-05\n"
     ]
    }
   ],
   "source": [
    "# 데이터 생성 \n",
    "real_data = [90,72,43,52,88]\n",
    "exp = int( sum(real_data) / len(real_data))\n",
    "print('기대빈도: ',exp)\n",
    "\n",
    "expected = [69,69,69,69,69]\n",
    "\n",
    "# 카이제곱 적합도 검정 \n",
    "from scipy.stats import chisquare\n",
    "chi , p_val =chisquare(real_data, expected) # real_data: 관측빈도 , expected: 기대빈도 \n",
    "\n",
    "print('chi:', chi)\n",
    "print('p_value:',p_val)\n"
   ]
  },
  {
   "cell_type": "code",
   "execution_count": 75,
   "id": "4d8ea97b",
   "metadata": {},
   "outputs": [
    {
     "name": "stdout",
     "output_type": "stream",
     "text": [
      "Optimization terminated successfully.\n",
      "         Current function value: 0.167288\n",
      "         Iterations 9\n",
      "                           Logit Regression Results                           \n",
      "==============================================================================\n",
      "Dep. Variable:                   type   No. Observations:                  130\n",
      "Model:                          Logit   Df Residuals:                      125\n",
      "Method:                           MLE   Df Model:                            4\n",
      "Date:                Sat, 19 Apr 2025   Pseudo R-squ.:                  0.7572\n",
      "Time:                        10:19:21   Log-Likelihood:                -21.747\n",
      "converged:                       True   LL-Null:                       -89.554\n",
      "Covariance Type:            nonrobust   LLR p-value:                 2.451e-28\n",
      "==============================================================================\n",
      "                 coef    std err          z      P>|z|      [0.025      0.975]\n",
      "------------------------------------------------------------------------------\n",
      "Intercept     69.3888     13.192      5.260      0.000      43.532      95.245\n",
      "alcohol       -4.8429      0.975     -4.965      0.000      -6.755      -2.931\n",
      "ash           -2.8007      1.567     -1.787      0.074      -5.873       0.271\n",
      "magnesium     -0.0376      0.030     -1.268      0.205      -0.096       0.021\n",
      "hue            4.1075      3.061      1.342      0.180      -1.893      10.108\n",
      "==============================================================================\n"
     ]
    }
   ],
   "source": [
    "# 회귀분석( 회귀계수 및 각 회귀변수의 값 확인) logit 함수 사용 \n",
    "from statsmodels.formula.api import logit\n",
    "\n",
    "# 데이터로드 \n",
    "df = pd.read_csv('https://raw.githubusercontent.com/JEunJin/BigData_python/master/bigdata_csvfile/wine_data.csv')\n",
    "df= df.iloc[:130,:]\n",
    "# 전체 데이터중 130행이 0~1사이 값을 가지므로 로지스틱 회귀분석을 위해 0~1사이 종속변수를 갖는 값들만 사용\n",
    "\n",
    "df.rename(columns={'class':'type'}, inplace=True)\n",
    "# 종속변수인 class 칼럼 명칭의 혼동을 피하기 위해 컬럼명을 type으로 바꿈 \n",
    "\n",
    "# 로지스틱 회귀 분석 \n",
    "from statsmodels.formula.api import logit\n",
    "\n",
    "result = logit('type~alcohol + ash + magnesium + hue',data=df).fit().summary()\n",
    "\n",
    "print(result)"
   ]
  },
  {
   "cell_type": "code",
   "execution_count": 76,
   "id": "6749f9cf",
   "metadata": {},
   "outputs": [
    {
     "name": "stdout",
     "output_type": "stream",
     "text": [
      "Optimization terminated successfully.\n",
      "         Current function value: 0.167288\n",
      "         Iterations 9\n",
      "                           Logit Regression Results                           \n",
      "==============================================================================\n",
      "Dep. Variable:                   type   No. Observations:                  130\n",
      "Model:                          Logit   Df Residuals:                      125\n",
      "Method:                           MLE   Df Model:                            4\n",
      "Date:                Sat, 19 Apr 2025   Pseudo R-squ.:                  0.7572\n",
      "Time:                        10:19:21   Log-Likelihood:                -21.747\n",
      "converged:                       True   LL-Null:                       -89.554\n",
      "Covariance Type:            nonrobust   LLR p-value:                 2.451e-28\n",
      "==============================================================================\n",
      "                 coef    std err          z      P>|z|      [0.025      0.975]\n",
      "------------------------------------------------------------------------------\n",
      "const         69.3888     13.192      5.260      0.000      43.532      95.245\n",
      "alcohol       -4.8429      0.975     -4.965      0.000      -6.755      -2.931\n",
      "ash           -2.8007      1.567     -1.787      0.074      -5.873       0.271\n",
      "magnesium     -0.0376      0.030     -1.268      0.205      -0.096       0.021\n",
      "hue            4.1075      3.061      1.342      0.180      -1.893      10.108\n",
      "==============================================================================\n"
     ]
    }
   ],
   "source": [
    "# 회귀분석( 회귀계수 및 각 회귀변수의 값 확인) Logit 클래스 사용\n",
    "from statsmodels.formula.api import logit\n",
    "\n",
    "# 데이터로드 \n",
    "df = pd.read_csv('https://raw.githubusercontent.com/JEunJin/BigData_python/master/bigdata_csvfile/wine_data.csv')\n",
    "df= df.iloc[:130,:]\n",
    "# 전체 데이터중 130행이 0~1사이 값을 가지므로 로지스틱 회귀분석을 위해 0~1사이 종속변수를 갖는 값들만 사용\n",
    "\n",
    "df.rename(columns={'class':'type'}, inplace=True)\n",
    "# 종속변수인 class 칼럼 명칭의 혼동을 피하기 위해 컬럼명을 type으로 바꿈 \n",
    "\n",
    "# 로지스틱 회귀 분석 \n",
    "import statsmodels.api as sm\n",
    "\n",
    "X= df[['alcohol','ash','magnesium','hue']]\n",
    "y= df['type']\n",
    "\n",
    "X = sm.add_constant(X)\n",
    "\n",
    "model = sm.Logit(y,X).fit()\n",
    "result = model.summary()\n",
    "print(result)\n",
    "\n"
   ]
  },
  {
   "cell_type": "code",
   "execution_count": 80,
   "id": "7c0c7455",
   "metadata": {},
   "outputs": [
    {
     "name": "stdout",
     "output_type": "stream",
     "text": [
      "                            OLS Regression Results                            \n",
      "==============================================================================\n",
      "Dep. Variable:                 cardio   R-squared:                       0.073\n",
      "Model:                            OLS   Adj. R-squared:                  0.073\n",
      "Method:                 Least Squares   F-statistic:                     1830.\n",
      "Date:                Sat, 19 Apr 2025   Prob (F-statistic):               0.00\n",
      "Time:                        10:59:37   Log-Likelihood:                -48162.\n",
      "No. Observations:               70000   AIC:                         9.633e+04\n",
      "Df Residuals:                   69996   BIC:                         9.637e+04\n",
      "Df Model:                           3                                         \n",
      "Covariance Type:            nonrobust                                         \n",
      "===============================================================================\n",
      "                  coef    std err          t      P>|t|      [0.025      0.975]\n",
      "-------------------------------------------------------------------------------\n",
      "const          -0.0965      0.010     -9.810      0.000      -0.116      -0.077\n",
      "weight          0.0054      0.000     42.140      0.000       0.005       0.006\n",
      "cholesterol     0.1466      0.003     54.238      0.000       0.141       0.152\n",
      "smoke          -0.0495      0.006     -7.696      0.000      -0.062      -0.037\n",
      "==============================================================================\n",
      "Omnibus:                   292868.519   Durbin-Watson:                   1.986\n",
      "Prob(Omnibus):                  0.000   Jarque-Bera (JB):             8705.864\n",
      "Skew:                           0.037   Prob(JB):                         0.00\n",
      "Kurtosis:                       1.274   Cond. No.                         410.\n",
      "==============================================================================\n",
      "\n",
      "Notes:\n",
      "[1] Standard Errors assume that the covariance matrix of the errors is correctly specified.\n",
      "0.147\n"
     ]
    }
   ],
   "source": [
    "# 다중 선형 회귀분석\n",
    "\n",
    "# 데이터로드\n",
    "df = pd.read_csv('https://raw.githubusercontent.com/JEunJin/BigData_python/master/bigdata_csvfile/cardiovascular_heart_disease_data.csv')\n",
    "\n",
    "#df.head()\n",
    "#df.info()\n",
    "\n",
    "# 다중 선형 회귀분석\n",
    "import statsmodels.api as sm\n",
    "\n",
    "X = sm.add_constant(df[['weight','cholesterol','smoke']])\n",
    "model = sm.OLS(df['cardio'],X)\n",
    "result = model.fit()\n",
    "\n",
    "# 다중 선형 회귀 분석 결과 \n",
    "print(result.summary())\n",
    "print(round(result.params['cholesterol'],3))# 콜레스테롤 회귀계수 "
   ]
  }
 ],
 "metadata": {
  "kernelspec": {
   "display_name": "yangjung-woo",
   "language": "python",
   "name": "yangjung-woo"
  },
  "language_info": {
   "codemirror_mode": {
    "name": "ipython",
    "version": 3
   },
   "file_extension": ".py",
   "mimetype": "text/x-python",
   "name": "python",
   "nbconvert_exporter": "python",
   "pygments_lexer": "ipython3",
   "version": "3.13.2"
  }
 },
 "nbformat": 4,
 "nbformat_minor": 5
}
