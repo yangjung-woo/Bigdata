{
 "cells": [
  {
   "cell_type": "markdown",
   "id": "2baa67cd",
   "metadata": {},
   "source": [
    "# 1.작업형 1유형 (3문항)\n",
    "- 데이터 탐색\n",
    "- 데이터 전처리 "
   ]
  },
  {
   "cell_type": "code",
   "execution_count": 209,
   "id": "fd5ca186",
   "metadata": {},
   "outputs": [],
   "source": [
    "import pandas as pd\n",
    "import numpy as np\n",
    "import seaborn as sns\n",
    "import matplotlib.pyplot as plt\n"
   ]
  },
  {
   "cell_type": "code",
   "execution_count": 210,
   "id": "9bf95865",
   "metadata": {},
   "outputs": [
    {
     "name": "stdout",
     "output_type": "stream",
     "text": [
      "<class 'pandas.core.frame.DataFrame'>\n",
      "RangeIndex: 891 entries, 0 to 890\n",
      "Data columns (total 12 columns):\n",
      " #   Column       Non-Null Count  Dtype  \n",
      "---  ------       --------------  -----  \n",
      " 0   PassengerId  891 non-null    int64  \n",
      " 1   Survived     891 non-null    int64  \n",
      " 2   Pclass       891 non-null    int64  \n",
      " 3   Name         891 non-null    object \n",
      " 4   Sex          891 non-null    object \n",
      " 5   Age          714 non-null    float64\n",
      " 6   SibSp        891 non-null    int64  \n",
      " 7   Parch        891 non-null    int64  \n",
      " 8   Ticket       891 non-null    object \n",
      " 9   Fare         891 non-null    float64\n",
      " 10  Cabin        204 non-null    object \n",
      " 11  Embarked     889 non-null    object \n",
      "dtypes: float64(2), int64(5), object(5)\n",
      "memory usage: 83.7+ KB\n",
      "None\n",
      "   PassengerId  Survived  Pclass  \\\n",
      "0            1         0       3   \n",
      "1            2         1       1   \n",
      "2            3         1       3   \n",
      "3            4         1       1   \n",
      "4            5         0       3   \n",
      "\n",
      "                                                Name     Sex   Age  SibSp  \\\n",
      "0                            Braund, Mr. Owen Harris    male  22.0      1   \n",
      "1  Cumings, Mrs. John Bradley (Florence Briggs Th...  female  38.0      1   \n",
      "2                             Heikkinen, Miss. Laina  female  26.0      0   \n",
      "3       Futrelle, Mrs. Jacques Heath (Lily May Peel)  female  35.0      1   \n",
      "4                           Allen, Mr. William Henry    male  35.0      0   \n",
      "\n",
      "   Parch            Ticket     Fare Cabin Embarked  \n",
      "0      0         A/5 21171   7.2500   NaN        S  \n",
      "1      0          PC 17599  71.2833   C85        C  \n",
      "2      0  STON/O2. 3101282   7.9250   NaN        S  \n",
      "3      0            113803  53.1000  C123        S  \n",
      "4      0            373450   8.0500   NaN        S  \n"
     ]
    }
   ],
   "source": [
    "# 데이터 불러오고 기본정보 확인\n",
    "df = pd.read_csv('https://raw.githubusercontent.com/JEunJin/Bigdata_python/master/bigdata_csvfile/titanic.csv')\n",
    "print(df.info())\n",
    "print(df.head())"
   ]
  },
  {
   "cell_type": "code",
   "execution_count": 211,
   "id": "39701a8d",
   "metadata": {},
   "outputs": [
    {
     "data": {
      "text/plain": [
       "<Axes: xlabel='Sex', ylabel='count'>"
      ]
     },
     "execution_count": 211,
     "metadata": {},
     "output_type": "execute_result"
    },
    {
     "data": {
      "image/png": "[encoded data removed]",
      "text/plain": [
       "<Figure size 640x480 with 1 Axes>"
      ]
     },
     "metadata": {},
     "output_type": "display_data"
    }
   ],
   "source": [
    "# 데이터 시각화 \n",
    "df['Survived'].value_counts() # 생존 , 사망 수 확인 \n",
    "# 생존 = 1 , 사망 =0 을 범주형 변수로 변환  \n",
    "df['Survived(modify)'] = df['Survived'].replace([0,1],['Dead','Alive'])\n",
    "sns.countplot(data=df, x='Sex', hue='Survived(modify)')\n"
   ]
  },
  {
   "cell_type": "code",
   "execution_count": 212,
   "id": "d1d5a526",
   "metadata": {},
   "outputs": [
    {
     "data": {
      "text/plain": [
       "PassengerId           0\n",
       "Survived              0\n",
       "Pclass                0\n",
       "Name                  0\n",
       "Sex                   0\n",
       "Age                 177\n",
       "SibSp                 0\n",
       "Parch                 0\n",
       "Ticket                0\n",
       "Fare                  0\n",
       "Cabin               687\n",
       "Embarked              2\n",
       "Survived(modify)      0\n",
       "dtype: int64"
      ]
     },
     "execution_count": 212,
     "metadata": {},
     "output_type": "execute_result"
    }
   ],
   "source": [
    "# 데이터 전처리 \n",
    "df.isna().sum() # 각 컬럼 결측치 개수 확인 \n",
    "# df.info() 로도 가능 \n",
    "# Age , Cabin, Embark에 각 결측치가 존재\n"
   ]
  },
  {
   "cell_type": "code",
   "execution_count": 213,
   "id": "86cea169",
   "metadata": {},
   "outputs": [
    {
     "data": {
      "text/plain": [
       "PassengerId         0\n",
       "Survived            0\n",
       "Pclass              0\n",
       "Name                0\n",
       "Sex                 0\n",
       "SibSp               0\n",
       "Parch               0\n",
       "Ticket              0\n",
       "Fare                0\n",
       "Embarked            2\n",
       "Survived(modify)    0\n",
       "dtype: int64"
      ]
     },
     "execution_count": 213,
     "metadata": {},
     "output_type": "execute_result"
    }
   ],
   "source": [
    "# Age , Cabin은 결측치가 많으니 삭제 \n",
    "df_dropna = df.copy()\n",
    "df_dropna= df_dropna.drop(columns=['Age', 'Cabin'])\n",
    "df_dropna.isna().sum()"
   ]
  },
  {
   "cell_type": "code",
   "execution_count": 214,
   "id": "ac5b47d6",
   "metadata": {},
   "outputs": [
    {
     "data": {
      "text/plain": [
       "PassengerId         0\n",
       "Survived            0\n",
       "Pclass              0\n",
       "Name                0\n",
       "Sex                 0\n",
       "SibSp               0\n",
       "Parch               0\n",
       "Ticket              0\n",
       "Fare                0\n",
       "Embarked            0\n",
       "Survived(modify)    0\n",
       "dtype: int64"
      ]
     },
     "execution_count": 214,
     "metadata": {},
     "output_type": "execute_result"
    }
   ],
   "source": [
    "# 결측치가 2개밖에 없는 Embarked 는 결측치가 있는 행 제거 \n",
    "df_dropna2 = df_dropna.dropna()\n",
    "df_dropna2.isna().sum()"
   ]
  },
  {
   "cell_type": "code",
   "execution_count": 215,
   "id": "23ac8793",
   "metadata": {},
   "outputs": [
    {
     "data": {
      "image/png": "[encoded data removed]",
      "text/plain": [
       "<Figure size 640x480 with 1 Axes>"
      ]
     },
     "metadata": {},
     "output_type": "display_data"
    },
    {
     "name": "stdout",
     "output_type": "stream",
     "text": [
      "IQR: 1.4152964737737417\n",
      "[ 4.  6. -7. -5.]\n"
     ]
    }
   ],
   "source": [
    "# 이상치 처리 \n",
    "data = np.random.randn(50)\n",
    "data= np.concatenate((data, np.array([4,6,-7,-5]))) # 정규분포를 따르는 50개 표본에 4개 이상치를 추가\n",
    "\n",
    "# 이상치 검출 boxplot\n",
    "plt.boxplot(data)\n",
    "plt.show()\n",
    "\n",
    "# 이상치만 출력\n",
    "\n",
    "Q1,Q3 = np.percentile(data,[25,75])\n",
    "IQR = Q3-Q1\n",
    "print('IQR:',IQR)\n",
    "\n",
    "outlier = data[(Q1-1.5*IQR>data) | (Q3 +1.5*IQR<data)]\n",
    "print(outlier)\n",
    "\n"
   ]
  },
  {
   "cell_type": "code",
   "execution_count": 216,
   "id": "142480f6",
   "metadata": {},
   "outputs": [
    {
     "name": "stdout",
     "output_type": "stream",
     "text": [
      "  group    test_1    test_2\n",
      "0     A  0.981527  1.193176\n",
      "1     B  0.497305 -0.004861\n",
      "2     C -0.846399 -0.253714\n",
      "3     B -0.227868  0.706453\n",
      "4     B -0.011200 -0.253973\n",
      "5     C -0.291514 -0.060208\n",
      "6     A  0.809353  0.654779\n",
      "7     C  0.254915 -1.322009\n",
      "8     A  1.213826  0.635127\n",
      "9     B -1.067179 -1.063160\n",
      "  group    test_1    test_2\n",
      "0     A  0.981527  1.193176\n",
      "1     B  0.500000  0.500000\n",
      "2     C -0.846399 -0.253714\n",
      "3     B -0.227868  0.706453\n",
      "4     B  0.500000  0.500000\n",
      "5     C -0.291514 -0.060208\n",
      "6     A  0.809353  0.654779\n",
      "7     C  0.254915 -1.322009\n",
      "8     A  1.213826  0.635127\n",
      "9     B -1.067179 -1.063160\n",
      "  group  test_1  test_2\n",
      "4     B     0.5     0.5\n",
      "  group    test_1    test_2\n",
      "0     A  0.981527  1.193176\n",
      "1     B  0.500000  0.500000\n",
      "2     C -0.846399 -0.253714\n",
      "3     B -0.227868  0.706453\n",
      "5     C -0.291514 -0.060208\n",
      "6     A  0.809353  0.654779\n",
      "7     C  0.254915 -1.322009\n",
      "8     A  1.213826  0.635127\n",
      "9     B -1.067179 -1.063160\n"
     ]
    }
   ],
   "source": [
    "# 중복값 처리 \n",
    "df = pd.DataFrame({'group':['A','B','C','B','B','C','A','C','A','B'], 'test_1':np.random.randn(10),'test_2':np.random.randn(10)})\n",
    "print(df)\n",
    "\n",
    "df.loc[[1,4],['test_1','test_2']] =0.5\n",
    "print(df)# 중복값 데이터  \n",
    "\n",
    "print(df[df.duplicated()])# 중복 데이터 위치 확인 \n",
    "df.drop_duplicates(inplace=True) # 중복값 데이터 행 전체 제거 \n",
    "\n",
    "print(df)\n"
   ]
  },
  {
   "cell_type": "code",
   "execution_count": 217,
   "id": "1860515d",
   "metadata": {},
   "outputs": [
    {
     "name": "stdout",
     "output_type": "stream",
     "text": [
      "   sepal_length  sepal_width  petal_length  petal_width  species\n",
      "0           5.1          3.5           1.4          0.2        0\n",
      "1           4.9          3.0           1.4          0.2        0\n",
      "2           4.7          3.2           1.3          0.2        0\n",
      "3           4.6          3.1           1.5          0.2        0\n",
      "4           5.0          3.6           1.4          0.2        0\n"
     ]
    }
   ],
   "source": [
    "from sklearn.preprocessing import LabelEncoder\n",
    "# 데이터 변환 (라벨인코더)\n",
    "df = pd.read_csv('https://raw.githubusercontent.com/JEunJin/Bigdata_python/master/bigdata_csvfile/iris.csv')\n",
    "le = LabelEncoder()\n",
    "# species 행에 해당하는 데이터들을 연속형 변수(라벨인코더)로 변환하시오\n",
    "df['species'] = le.fit_transform(df['species'])\n",
    "\n",
    "print(df.head())\n"
   ]
  },
  {
   "cell_type": "code",
   "execution_count": 218,
   "id": "69741bc5",
   "metadata": {},
   "outputs": [
    {
     "name": "stdout",
     "output_type": "stream",
     "text": [
      "     sepal_length  sepal_width  petal_length  petal_width  species_versicolor  \\\n",
      "0             5.1          3.5           1.4          0.2               False   \n",
      "1             4.9          3.0           1.4          0.2               False   \n",
      "2             4.7          3.2           1.3          0.2               False   \n",
      "3             4.6          3.1           1.5          0.2               False   \n",
      "4             5.0          3.6           1.4          0.2               False   \n",
      "..            ...          ...           ...          ...                 ...   \n",
      "145           6.7          3.0           5.2          2.3               False   \n",
      "146           6.3          2.5           5.0          1.9               False   \n",
      "147           6.5          3.0           5.2          2.0               False   \n",
      "148           6.2          3.4           5.4          2.3               False   \n",
      "149           5.9          3.0           5.1          1.8               False   \n",
      "\n",
      "     species_virginica  \n",
      "0                False  \n",
      "1                False  \n",
      "2                False  \n",
      "3                False  \n",
      "4                False  \n",
      "..                 ...  \n",
      "145               True  \n",
      "146               True  \n",
      "147               True  \n",
      "148               True  \n",
      "149               True  \n",
      "\n",
      "[150 rows x 6 columns]\n"
     ]
    }
   ],
   "source": [
    "# 원-핫 인코더 사용 \n",
    "\n",
    "df_iris = pd.read_csv('https://raw.githubusercontent.com/JEunJin/Bigdata_python/master/bigdata_csvfile/iris.csv')\n",
    "df_iris = pd.get_dummies(df_iris, columns=['species'], drop_first=True)\n",
    "\n",
    "print(df_iris)\n"
   ]
  },
  {
   "cell_type": "code",
   "execution_count": 219,
   "id": "b608b340",
   "metadata": {},
   "outputs": [
    {
     "data": {
      "text/plain": [
       "<matplotlib.legend.Legend at 0x26869bc4cd0>"
      ]
     },
     "execution_count": 219,
     "metadata": {},
     "output_type": "execute_result"
    },
    {
     "data": {
      "image/png": "[encoded data removed]",
      "text/plain": [
       "<Figure size 640x480 with 1 Axes>"
      ]
     },
     "metadata": {},
     "output_type": "display_data"
    }
   ],
   "source": [
    "# 데이터 표준화 (standard scaler 정규분포화 )\n",
    "from sklearn.preprocessing import StandardScaler\n",
    "from sklearn.model_selection import train_test_split\n",
    "df_iris = pd.read_csv('https://raw.githubusercontent.com/JEunJin/Bigdata_python/master/bigdata_csvfile/iris.csv')\n",
    "\n",
    "# 데이터 분할\n",
    "target = 'species'\n",
    "x = df_iris.drop(columns=target)\n",
    "y = df_iris[target]\n",
    "train_x , test_x , train_y , test_y = train_test_split(x,y,test_size=0.2,stratify=y)\n",
    "\n",
    "# 데이터 표준화 \n",
    "scaler = StandardScaler()\n",
    "train_x = scaler.fit_transform(train_x)\n",
    "plt.hist(train_x)\n",
    "plt.legend(['sepal_length','sepal_width','petal_length','petal_width'])\n",
    "\n"
   ]
  },
  {
   "cell_type": "code",
   "execution_count": 220,
   "id": "f6710873",
   "metadata": {},
   "outputs": [
    {
     "data": {
      "text/plain": [
       "<matplotlib.legend.Legend at 0x26869dd0e10>"
      ]
     },
     "execution_count": 220,
     "metadata": {},
     "output_type": "execute_result"
    },
    {
     "data": {
      "image/png": "[encoded data removed]",
      "text/plain": [
       "<Figure size 640x480 with 1 Axes>"
      ]
     },
     "metadata": {},
     "output_type": "display_data"
    }
   ],
   "source": [
    "# 데이터 표준화 (Minmax Scaler 최대 최소분포화 )\n",
    "from sklearn.preprocessing import MinMaxScaler\n",
    "from sklearn.model_selection import train_test_split\n",
    "df_iris = pd.read_csv('https://raw.githubusercontent.com/JEunJin/Bigdata_python/master/bigdata_csvfile/iris.csv')\n",
    "\n",
    "# 데이터 분할\n",
    "target = 'species'\n",
    "x = df_iris.drop(columns=target)\n",
    "y = df_iris[target]\n",
    "train_x , test_x , train_y , test_y = train_test_split(x,y,test_size=0.2,stratify=y)\n",
    "\n",
    "# 데이터 표준화 \n",
    "scaler = MinMaxScaler()\n",
    "train_x = scaler.fit_transform(train_x)\n",
    "plt.hist(train_x)\n",
    "plt.legend(['sepal_length','sepal_width','petal_length','petal_width'])\n",
    "\n"
   ]
  },
  {
   "cell_type": "code",
   "execution_count": 221,
   "id": "b8655ada",
   "metadata": {},
   "outputs": [],
   "source": [
    "# 데이터 평활화  \n",
    "\n",
    "# 시계열 데이터를 받아온다면 시행해보자 "
   ]
  },
  {
   "cell_type": "markdown",
   "id": "f683a1de",
   "metadata": {},
   "source": [
    "# 2. 작업형 2유형 (1문항)\n",
    "- 데이터 분석 절차\n",
    "- 데이터 분석 모델 설계계"
   ]
  },
  {
   "cell_type": "code",
   "execution_count": 222,
   "id": "89652892",
   "metadata": {},
   "outputs": [
    {
     "name": "stdout",
     "output_type": "stream",
     "text": [
      "<class 'pandas.core.frame.DataFrame'>\n",
      "RangeIndex: 891 entries, 0 to 890\n",
      "Data columns (total 12 columns):\n",
      " #   Column       Non-Null Count  Dtype  \n",
      "---  ------       --------------  -----  \n",
      " 0   PassengerId  891 non-null    int64  \n",
      " 1   Survived     891 non-null    int64  \n",
      " 2   Pclass       891 non-null    int64  \n",
      " 3   Name         891 non-null    object \n",
      " 4   Sex          891 non-null    object \n",
      " 5   Age          714 non-null    float64\n",
      " 6   SibSp        891 non-null    int64  \n",
      " 7   Parch        891 non-null    int64  \n",
      " 8   Ticket       891 non-null    object \n",
      " 9   Fare         891 non-null    float64\n",
      " 10  Cabin        204 non-null    object \n",
      " 11  Embarked     889 non-null    object \n",
      "dtypes: float64(2), int64(5), object(5)\n",
      "memory usage: 83.7+ KB\n",
      "None\n",
      "   PassengerId  Survived  Pclass  \\\n",
      "0            1         0       3   \n",
      "1            2         1       1   \n",
      "2            3         1       3   \n",
      "3            4         1       1   \n",
      "4            5         0       3   \n",
      "\n",
      "                                                Name     Sex   Age  SibSp  \\\n",
      "0                            Braund, Mr. Owen Harris    male  22.0      1   \n",
      "1  Cumings, Mrs. John Bradley (Florence Briggs Th...  female  38.0      1   \n",
      "2                             Heikkinen, Miss. Laina  female  26.0      0   \n",
      "3       Futrelle, Mrs. Jacques Heath (Lily May Peel)  female  35.0      1   \n",
      "4                           Allen, Mr. William Henry    male  35.0      0   \n",
      "\n",
      "   Parch            Ticket     Fare Cabin Embarked  \n",
      "0      0         A/5 21171   7.2500   NaN        S  \n",
      "1      0          PC 17599  71.2833   C85        C  \n",
      "2      0  STON/O2. 3101282   7.9250   NaN        S  \n",
      "3      0            113803  53.1000  C123        S  \n",
      "4      0            373450   8.0500   NaN        S  \n"
     ]
    }
   ],
   "source": [
    "# 데이터 불러오고 기본정보 확인\n",
    "df = pd.read_csv('https://raw.githubusercontent.com/JEunJin/Bigdata_python/master/bigdata_csvfile/titanic.csv')\n",
    "print(df.info())\n",
    "print(df.head())"
   ]
  },
  {
   "cell_type": "code",
   "execution_count": 223,
   "id": "0b6b970f",
   "metadata": {},
   "outputs": [
    {
     "name": "stderr",
     "output_type": "stream",
     "text": [
      "C:\\Users\\yee77\\AppData\\Local\\Temp\\ipykernel_19836\\357190917.py:3: FutureWarning: A value is trying to be set on a copy of a DataFrame or Series through chained assignment using an inplace method.\n",
      "The behavior will change in pandas 3.0. This inplace method will never work because the intermediate object on which we are setting values always behaves as a copy.\n",
      "\n",
      "For example, when doing 'df[col].method(value, inplace=True)', try using 'df.method({col: value}, inplace=True)' or df[col] = df[col].method(value) instead, to perform the operation inplace on the original object.\n",
      "\n",
      "\n",
      "  df['Age'].fillna(df['Age'].mode()[0], inplace=True)\n",
      "C:\\Users\\yee77\\AppData\\Local\\Temp\\ipykernel_19836\\357190917.py:4: FutureWarning: A value is trying to be set on a copy of a DataFrame or Series through chained assignment using an inplace method.\n",
      "The behavior will change in pandas 3.0. This inplace method will never work because the intermediate object on which we are setting values always behaves as a copy.\n",
      "\n",
      "For example, when doing 'df[col].method(value, inplace=True)', try using 'df.method({col: value}, inplace=True)' or df[col] = df[col].method(value) instead, to perform the operation inplace on the original object.\n",
      "\n",
      "\n",
      "  df['Embarked'].fillna(df['Embarked'].mode()[0], inplace=True)\n"
     ]
    }
   ],
   "source": [
    "# 데이터 전처리 (불필요한 컬럼 제거, 결측값 대체, 라벨 인코딩)\n",
    "df = df.drop(columns=['PassengerId','Cabin','Name','Ticket'])\n",
    "df['Age'].fillna(df['Age'].mode()[0], inplace=True)\n",
    "df['Embarked'].fillna(df['Embarked'].mode()[0], inplace=True)\n",
    "\n",
    "le = LabelEncoder()\n",
    "df['Sex']=le.fit_transform(df['Sex'])\n",
    "df['Embarked'] = le.fit_transform(df['Embarked'])\n"
   ]
  },
  {
   "cell_type": "code",
   "execution_count": 224,
   "id": "6059c77f",
   "metadata": {},
   "outputs": [
    {
     "name": "stdout",
     "output_type": "stream",
     "text": [
      "     Pclass  Sex   Age  SibSp  Parch     Fare  Embarked\n",
      "0         3    1  22.0      1      0   7.2500         2\n",
      "1         1    0  38.0      1      0  71.2833         0\n",
      "2         3    0  26.0      0      0   7.9250         2\n",
      "3         1    0  35.0      1      0  53.1000         2\n",
      "4         3    1  35.0      0      0   8.0500         2\n",
      "..      ...  ...   ...    ...    ...      ...       ...\n",
      "886       2    1  27.0      0      0  13.0000         2\n",
      "887       1    0  19.0      0      0  30.0000         2\n",
      "888       3    0  24.0      1      2  23.4500         2\n",
      "889       1    1  26.0      0      0  30.0000         0\n",
      "890       3    1  32.0      0      0   7.7500         1\n",
      "\n",
      "[891 rows x 7 columns]\n",
      "     Survived\n",
      "0           0\n",
      "1           1\n",
      "2           1\n",
      "3           1\n",
      "4           0\n",
      "..        ...\n",
      "886         0\n",
      "887         1\n",
      "888         0\n",
      "889         1\n",
      "890         0\n",
      "\n",
      "[891 rows x 1 columns]\n"
     ]
    }
   ],
   "source": [
    "# 데이터 분할\n",
    "target = ['Survived']\n",
    "x = df.drop(columns=target)\n",
    "y = df[target]\n",
    "x_train , x_test , y_train , y_test = train_test_split(x,y,test_size=0.2,stratify=y)\n",
    "print(x)\n",
    "print(y)"
   ]
  },
  {
   "cell_type": "code",
   "execution_count": 225,
   "id": "68a582b1",
   "metadata": {},
   "outputs": [
    {
     "name": "stdout",
     "output_type": "stream",
     "text": [
      "accuracy_score: 0.8435754189944135\n",
      "f1_score: 0.8435754189944135\n",
      "[[96 14]\n",
      " [14 55]]\n"
     ]
    },
    {
     "name": "stderr",
     "output_type": "stream",
     "text": [
      "c:\\Users\\yee77\\AppData\\Local\\Programs\\Python\\Python313\\Lib\\site-packages\\sklearn\\base.py:1389: DataConversionWarning: A column-vector y was passed when a 1d array was expected. Please change the shape of y to (n_samples,), for example using ravel().\n",
      "  return fit_method(estimator, *args, **kwargs)\n"
     ]
    }
   ],
   "source": [
    "# 데이터 분석 (분류 문제)\n",
    "from sklearn.ensemble import RandomForestClassifier\n",
    "from sklearn.linear_model import LogisticRegression\n",
    "from sklearn.svm import SVC # 서포트 벡터머신 classifier\n",
    "from sklearn.tree import DecisionTreeClassifier\n",
    "from sklearn.metrics import confusion_matrix\n",
    "from sklearn.metrics import accuracy_score, f1_score\n",
    "\n",
    "# 랜덤포레스트 모델 \n",
    "rfc =RandomForestClassifier(n_estimators= 120, max_depth=20, random_state=2024)\n",
    "rfc.fit(x_train,y_train)\n",
    "\n",
    "# 로지스틱 회귀 모델 로드 \n",
    "# lr = LogisticRegression()\n",
    "\n",
    "# K-NN 모델 로드 \n",
    "# knn = KNeighborsClassifier()\n",
    "\n",
    "# 서포트 벡터 머신 (분류)\n",
    "# svc = SVC(kernel='rbf')\n",
    "\n",
    "# 의사결정나무 모델 로드 \n",
    "# dtc = DecisionTreeClassifier()\n",
    "\n",
    "y_pred = rfc.predict(x_test)\n",
    "\n",
    "\n",
    "# 모델 성능평가 \n",
    "score = accuracy_score(y_test,y_pred)\n",
    "print('accuracy_score:',score)\n",
    "F1_score = f1_score(y_test, y_pred , average='micro')\n",
    "print('f1_score:',F1_score)\n",
    "# 혼동행렬 출력 \n",
    "print(confusion_matrix(y_test,y_pred))\n"
   ]
  },
  {
   "cell_type": "code",
   "execution_count": 226,
   "id": "f5508aa7",
   "metadata": {},
   "outputs": [
    {
     "name": "stdout",
     "output_type": "stream",
     "text": [
      "                 TV     Radio  Newspaper     Sales\n",
      "TV         1.000000  0.054809   0.056648  0.901208\n",
      "Radio      0.054809  1.000000   0.354104  0.349631\n",
      "Newspaper  0.056648  0.354104   1.000000  0.157960\n",
      "Sales      0.901208  0.349631   0.157960  1.000000\n",
      "\n",
      "r2: 0.38001611710551453\n",
      "mae: 0.2979500588461554\n",
      "mse: 0.1468642573942494\n",
      "\n",
      "r2: -0.1689140530419273\n",
      "mae: 0.38868284447146223\n",
      "mse: 0.2768970276392194\n",
      "\n",
      "r2: 0.05271960547504029\n",
      "mae: 0.22895716945996275\n",
      "mse: 0.2243955617628802\n"
     ]
    },
    {
     "name": "stderr",
     "output_type": "stream",
     "text": [
      "c:\\Users\\yee77\\AppData\\Local\\Programs\\Python\\Python313\\Lib\\site-packages\\sklearn\\utils\\validation.py:1408: DataConversionWarning: A column-vector y was passed when a 1d array was expected. Please change the shape of y to (n_samples, ), for example using ravel().\n",
      "  y = column_or_1d(y, warn=True)\n"
     ]
    }
   ],
   "source": [
    "# 데이터 분석 (회귀) 문제\n",
    "from sklearn.linear_model import LinearRegression # 선형회귀분석\n",
    "from sklearn.svm import SVR # SVM Regressor \n",
    "from sklearn.tree import DecisionTreeRegressor\n",
    "from sklearn.metrics import r2_score\n",
    "\n",
    "# 평가지표 \n",
    "from sklearn.metrics import mean_absolute_error , mean_squared_error # MAE , MSE \n",
    "# 시각화 라이브러리 \n",
    "import matplotlib.pyplot as plt\n",
    "from mpl_toolkits.mplot3d import Axes3D\n",
    "\n",
    "\n",
    "# 데이터 탐색\n",
    "df = pd.read_csv('https://raw.githubusercontent.com/JEunJin/BigData_python/master/bigdata_csvfile/advertising.csv')\n",
    "# print(df.info())\n",
    "# print(df.head())\n",
    "\n",
    "# 상관관계 분석\n",
    "corr =df.corr(method='pearson') # 피어슨 상관분석 \n",
    "print(corr)\n",
    "print()\n",
    "# 단순 선형 회귀 모델 로드 \n",
    "lr = LinearRegression()\n",
    "lr.fit(x_train,y_train)\n",
    "y_pred = lr.predict(x_test)\n",
    "\n",
    "# 모델 성능 평가 \n",
    "r2 = r2_score(y_test, y_pred)\n",
    "print('r2:',r2)\n",
    "mae = mean_absolute_error(y_test,y_pred)\n",
    "print('mae:',mae)\n",
    "mse = mean_squared_error(y_test,y_pred)\n",
    "print('mse:',mse)\n",
    "print()\n",
    "\n",
    "# SVM (회귀) 모델 로드 \n",
    "svr =SVR(kernel='poly') # kernel: 커널함수 선택('linear','sigmoid','rbf','poly')\n",
    "svr.fit(x_train,y_train)\n",
    "y_pred = svr.predict(x_test)\n",
    "\n",
    "# 모델 성능 평가 \n",
    "r2 = r2_score(y_test, y_pred)\n",
    "print('r2:',r2)\n",
    "mae = mean_absolute_error(y_test,y_pred)\n",
    "print('mae:',mae)\n",
    "mse = mean_squared_error(y_test,y_pred)\n",
    "print('mse:',mse)\n",
    "print()\n",
    "\n",
    "# 의사결정나무 (회귀) 모델 로드\n",
    "dtr = DecisionTreeRegressor()\n",
    "dtr.fit(x_train,y_train)\n",
    "y_pred = dtr.predict(x_test)\n",
    "\n",
    "# 모델 성능 평가 \n",
    "r2 = r2_score(y_test, y_pred)\n",
    "print('r2:',r2)\n",
    "mae = mean_absolute_error(y_test,y_pred)\n",
    "print('mae:',mae)\n",
    "mse = mean_squared_error(y_test,y_pred)\n",
    "print('mse:',mse)\n",
    "\n",
    "# # 모델 성능 평가 \n",
    "# r2 = r2_score(y_test, y_pred)\n",
    "# print('r2:',r2)\n",
    "# mae = mean_absolute_error(y_test,y_pred)\n",
    "# print('mae:',mae)\n",
    "# mse = mean_squared_error(y_test,y_pred)\n",
    "# print('mse:',mse)\n"
   ]
  },
  {
   "cell_type": "code",
   "execution_count": 229,
   "id": "9f9a4cc7",
   "metadata": {},
   "outputs": [
    {
     "name": "stdout",
     "output_type": "stream",
     "text": [
      "<class 'pandas.core.frame.DataFrame'>\n",
      "RangeIndex: 150 entries, 0 to 149\n",
      "Data columns (total 5 columns):\n",
      " #   Column        Non-Null Count  Dtype  \n",
      "---  ------        --------------  -----  \n",
      " 0   sepal_length  150 non-null    float64\n",
      " 1   sepal_width   150 non-null    float64\n",
      " 2   petal_length  150 non-null    float64\n",
      " 3   petal_width   150 non-null    float64\n",
      " 4   species       150 non-null    object \n",
      "dtypes: float64(4), object(1)\n",
      "memory usage: 6.0+ KB\n",
      "None\n",
      "   sepal_length  sepal_width  petal_length  petal_width species\n",
      "0           5.1          3.5           1.4          0.2  setosa\n",
      "1           4.9          3.0           1.4          0.2  setosa\n",
      "2           4.7          3.2           1.3          0.2  setosa\n",
      "3           4.6          3.1           1.5          0.2  setosa\n",
      "4           5.0          3.6           1.4          0.2  setosa\n"
     ]
    },
    {
     "name": "stderr",
     "output_type": "stream",
     "text": [
      "c:\\Users\\yee77\\AppData\\Local\\Programs\\Python\\Python313\\Lib\\site-packages\\joblib\\externals\\loky\\backend\\context.py:136: UserWarning: Could not find the number of physical cores for the following reason:\n",
      "[WinError 2] 지정된 파일을 찾을 수 없습니다\n",
      "Returning the number of logical cores instead. You can silence this warning by setting LOKY_MAX_CPU_COUNT to the number of cores you want to use.\n",
      "  warnings.warn(\n",
      "  File \"c:\\Users\\yee77\\AppData\\Local\\Programs\\Python\\Python313\\Lib\\site-packages\\joblib\\externals\\loky\\backend\\context.py\", line 257, in _count_physical_cores\n",
      "    cpu_info = subprocess.run(\n",
      "        \"wmic CPU Get NumberOfCores /Format:csv\".split(),\n",
      "        capture_output=True,\n",
      "        text=True,\n",
      "    )\n",
      "  File \"c:\\Users\\yee77\\AppData\\Local\\Programs\\Python\\Python313\\Lib\\subprocess.py\", line 556, in run\n",
      "    with Popen(*popenargs, **kwargs) as process:\n",
      "         ~~~~~^^^^^^^^^^^^^^^^^^^^^^\n",
      "  File \"c:\\Users\\yee77\\AppData\\Local\\Programs\\Python\\Python313\\Lib\\subprocess.py\", line 1038, in __init__\n",
      "    self._execute_child(args, executable, preexec_fn, close_fds,\n",
      "    ~~~~~~~~~~~~~~~~~~~^^^^^^^^^^^^^^^^^^^^^^^^^^^^^^^^^^^^^^^^^\n",
      "                        pass_fds, cwd, env,\n",
      "                        ^^^^^^^^^^^^^^^^^^^\n",
      "    ...<5 lines>...\n",
      "                        gid, gids, uid, umask,\n",
      "                        ^^^^^^^^^^^^^^^^^^^^^^\n",
      "                        start_new_session, process_group)\n",
      "                        ^^^^^^^^^^^^^^^^^^^^^^^^^^^^^^^^^\n",
      "  File \"c:\\Users\\yee77\\AppData\\Local\\Programs\\Python\\Python313\\Lib\\subprocess.py\", line 1550, in _execute_child\n",
      "    hp, ht, pid, tid = _winapi.CreateProcess(executable, args,\n",
      "                       ~~~~~~~~~~~~~~~~~~~~~^^^^^^^^^^^^^^^^^^\n",
      "                             # no special security\n",
      "                             ^^^^^^^^^^^^^^^^^^^^^\n",
      "    ...<4 lines>...\n",
      "                             cwd,\n",
      "                             ^^^^\n",
      "                             startupinfo)\n",
      "                             ^^^^^^^^^^^^\n"
     ]
    },
    {
     "data": {
      "image/png": "[encoded data removed]",
      "text/plain": [
       "<Figure size 500x500 with 1 Axes>"
      ]
     },
     "metadata": {},
     "output_type": "display_data"
    }
   ],
   "source": [
    "# 비지도학습 (군집분석)\n",
    "from sklearn.preprocessing import LabelEncoder\n",
    "from sklearn.cluster import KMeans\n",
    "df =pd.read_csv('https://raw.githubusercontent.com/JEunJin/BigData_python/master/bigdata_csvfile/iris.csv')\n",
    "print(df.info())\n",
    "print(df.head())\n",
    "\n",
    "# 데이터 전처리(라벨링)\n",
    "\n",
    "le =LabelEncoder()\n",
    "df['species'] = le.fit_transform(df['species'])\n",
    "\n",
    "# K-means 클러스터링 모델 \n",
    "cluster = KMeans(n_clusters=3, n_init=10, max_iter=500,random_state=2024,algorithm='lloyd')\n",
    "\n",
    "cluster.fit(df)\n",
    "y_pred = cluster.predict(df)\n",
    "\n",
    "# 군집분석 성능평가 및 시각화 \n",
    "\n",
    "scope= range(1,15)\n",
    "inertias=[]\n",
    "\n",
    "for i in scope: # K-means 의 클러스터 개수 별 성능을 평가하기 위한 지표표\n",
    "    model = KMeans(n_clusters=i)\n",
    "    model.fit(df)\n",
    "    inertias.append(model.inertia_) # inertia 가 무슨 의미일까??\n",
    "\n",
    "plt.figure(figsize=(5,5))\n",
    "plt.plot(scope, inertias,'-s')\n",
    "plt.xlabel('number of K')\n",
    "plt.ylabel('inertia')\n",
    "plt.show()\n",
    "\n"
   ]
  },
  {
   "cell_type": "code",
   "execution_count": null,
   "id": "92590a75",
   "metadata": {},
   "outputs": [],
   "source": [
    "# A-priori 알고리즘 연관성 분석 "
   ]
  },
  {
   "cell_type": "markdown",
   "id": "043681f8",
   "metadata": {},
   "source": [
    "# 3. 작업형 3유형 (6문항)\n",
    "- 가설검정\n",
    "-"
   ]
  }
 ],
 "metadata": {
  "kernelspec": {
   "display_name": "yangjung-woo",
   "language": "python",
   "name": "yangjung-woo"
  },
  "language_info": {
   "codemirror_mode": {
    "name": "ipython",
    "version": 3
   },
   "file_extension": ".py",
   "mimetype": "text/x-python",
   "name": "python",
   "nbconvert_exporter": "python",
   "pygments_lexer": "ipython3",
   "version": "3.13.2"
  }
 },
 "nbformat": 4,
 "nbformat_minor": 5
}
