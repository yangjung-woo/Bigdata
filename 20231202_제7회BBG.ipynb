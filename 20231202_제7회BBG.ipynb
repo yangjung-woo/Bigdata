{
 "cells": [
  {
   "cell_type": "markdown",
   "id": "3a0673ce",
   "metadata": {},
   "source": [
    "# 제 7회 빅데이터분석기사 복기\n"
   ]
  },
  {
   "cell_type": "markdown",
   "id": "4ace8ce5",
   "metadata": {},
   "source": [
    "## 작업형 1유형 "
   ]
  },
  {
   "cell_type": "markdown",
   "id": "0c049f25",
   "metadata": {},
   "source": [
    "### 문제 1\n",
    "- 학생들의 성적 데이터 \n",
    "- test preparation course 컬럼의 값이 none 인 데이터는 결측값으로 간주 < 제거 \n",
    "- 학생들이 가장 많은 인종 race/ethnicity 그룹을 추출 하여 새로운 데이터프레임을 만들어라 \n",
    "- 새로 샐성된 데이터플엠의 math score 컬럼을 표준화 , 표준화된 math score 컬럼의 최댓값을 출력( 단 소수점 3자리까지)\n"
   ]
  },
  {
   "cell_type": "code",
   "execution_count": 21,
   "id": "4274c650",
   "metadata": {},
   "outputs": [
    {
     "name": "stdout",
     "output_type": "stream",
     "text": [
      "race/ethnicity\n",
      "group C    117\n",
      "group D     82\n",
      "group B     68\n",
      "group E     60\n",
      "group A     31\n",
      "Name: count, dtype: int64\n",
      "2.145\n"
     ]
    },
    {
     "name": "stderr",
     "output_type": "stream",
     "text": [
      "C:\\Users\\yee77\\AppData\\Local\\Temp\\ipykernel_4280\\1797170639.py:15: SettingWithCopyWarning: \n",
      "A value is trying to be set on a copy of a slice from a DataFrame.\n",
      "Try using .loc[row_indexer,col_indexer] = value instead\n",
      "\n",
      "See the caveats in the documentation: https://pandas.pydata.org/pandas-docs/stable/user_guide/indexing.html#returning-a-view-versus-a-copy\n",
      "  max_group_data[['math score']] = ss.fit_transform(max_group_data[['math score']])\n"
     ]
    }
   ],
   "source": [
    "import pandas as pd\n",
    "\n",
    "data = pd.read_csv('https://raw.githubusercontent.com/JEunJin/Bigdata_python/master/bigdata_csvfile/student_performance_data.csv')\n",
    "#data.info() # 결측치는 없으나 none <  결측치로 판단 \n",
    "\n",
    "data = data[data['test preparation course']!='none']\n",
    "#data.info()\n",
    "#display(data.head()) \n",
    "print(data['race/ethnicity'].value_counts()) # 가장 많은 그룹은 group C \n",
    "max_group_data = data[data['race/ethnicity']=='group C']\n",
    "#display(max_group_data.head())\n",
    "from sklearn.preprocessing import StandardScaler\n",
    "ss = StandardScaler()\n",
    "\n",
    "max_group_data[['math score']] = ss.fit_transform(max_group_data[['math score']])\n",
    "print(round(max_group_data['math score'].max(),3))\n"
   ]
  },
  {
   "cell_type": "markdown",
   "id": "0a74a656",
   "metadata": {},
   "source": [
    "### 문제 2 \n",
    "- 원달러 환율 doller exchange rate와 가장 높은 상관계수를 값는 컬럼의 평균값을 구해라 (단, 소수점 3자리까지만 )"
   ]
  },
  {
   "cell_type": "code",
   "execution_count": 28,
   "id": "95b61f95",
   "metadata": {},
   "outputs": [
    {
     "data": {
      "text/html": [
       "<div>\n",
       "<style scoped>\n",
       "    .dataframe tbody tr th:only-of-type {\n",
       "        vertical-align: middle;\n",
       "    }\n",
       "\n",
       "    .dataframe tbody tr th {\n",
       "        vertical-align: top;\n",
       "    }\n",
       "\n",
       "    .dataframe thead th {\n",
       "        text-align: right;\n",
       "    }\n",
       "</style>\n",
       "<table border=\"1\" class=\"dataframe\">\n",
       "  <thead>\n",
       "    <tr style=\"text-align: right;\">\n",
       "      <th></th>\n",
       "      <th>date</th>\n",
       "      <th>BAC</th>\n",
       "      <th>dollar exchange rate</th>\n",
       "      <th>KOSPI</th>\n",
       "      <th>gold price</th>\n",
       "      <th>silver price</th>\n",
       "      <th>natural gas price</th>\n",
       "    </tr>\n",
       "  </thead>\n",
       "  <tbody>\n",
       "    <tr>\n",
       "      <th>date</th>\n",
       "      <td>1.000000</td>\n",
       "      <td>-0.199321</td>\n",
       "      <td>0.174422</td>\n",
       "      <td>0.924599</td>\n",
       "      <td>0.915423</td>\n",
       "      <td>0.665562</td>\n",
       "      <td>-0.405342</td>\n",
       "    </tr>\n",
       "    <tr>\n",
       "      <th>BAC</th>\n",
       "      <td>-0.199321</td>\n",
       "      <td>1.000000</td>\n",
       "      <td>-0.295409</td>\n",
       "      <td>-0.175108</td>\n",
       "      <td>-0.383470</td>\n",
       "      <td>-0.461158</td>\n",
       "      <td>0.514807</td>\n",
       "    </tr>\n",
       "    <tr>\n",
       "      <th>dollar exchange rate</th>\n",
       "      <td>0.174422</td>\n",
       "      <td>-0.295409</td>\n",
       "      <td>1.000000</td>\n",
       "      <td>-0.064312</td>\n",
       "      <td>0.147900</td>\n",
       "      <td>-0.066849</td>\n",
       "      <td>-0.366707</td>\n",
       "    </tr>\n",
       "    <tr>\n",
       "      <th>KOSPI</th>\n",
       "      <td>0.924599</td>\n",
       "      <td>-0.175108</td>\n",
       "      <td>-0.064312</td>\n",
       "      <td>1.000000</td>\n",
       "      <td>0.905556</td>\n",
       "      <td>0.772307</td>\n",
       "      <td>-0.307696</td>\n",
       "    </tr>\n",
       "    <tr>\n",
       "      <th>gold price</th>\n",
       "      <td>0.915423</td>\n",
       "      <td>-0.383470</td>\n",
       "      <td>0.147900</td>\n",
       "      <td>0.905556</td>\n",
       "      <td>1.000000</td>\n",
       "      <td>0.882894</td>\n",
       "      <td>-0.406464</td>\n",
       "    </tr>\n",
       "    <tr>\n",
       "      <th>silver price</th>\n",
       "      <td>0.665562</td>\n",
       "      <td>-0.461158</td>\n",
       "      <td>-0.066849</td>\n",
       "      <td>0.772307</td>\n",
       "      <td>0.882894</td>\n",
       "      <td>1.000000</td>\n",
       "      <td>-0.283093</td>\n",
       "    </tr>\n",
       "    <tr>\n",
       "      <th>natural gas price</th>\n",
       "      <td>-0.405342</td>\n",
       "      <td>0.514807</td>\n",
       "      <td>-0.366707</td>\n",
       "      <td>-0.307696</td>\n",
       "      <td>-0.406464</td>\n",
       "      <td>-0.283093</td>\n",
       "      <td>1.000000</td>\n",
       "    </tr>\n",
       "  </tbody>\n",
       "</table>\n",
       "</div>"
      ],
      "text/plain": [
       "                          date       BAC  dollar exchange rate     KOSPI  \\\n",
       "date                  1.000000 -0.199321              0.174422  0.924599   \n",
       "BAC                  -0.199321  1.000000             -0.295409 -0.175108   \n",
       "dollar exchange rate  0.174422 -0.295409              1.000000 -0.064312   \n",
       "KOSPI                 0.924599 -0.175108             -0.064312  1.000000   \n",
       "gold price            0.915423 -0.383470              0.147900  0.905556   \n",
       "silver price          0.665562 -0.461158             -0.066849  0.772307   \n",
       "natural gas price    -0.405342  0.514807             -0.366707 -0.307696   \n",
       "\n",
       "                      gold price  silver price  natural gas price  \n",
       "date                    0.915423      0.665562          -0.405342  \n",
       "BAC                    -0.383470     -0.461158           0.514807  \n",
       "dollar exchange rate    0.147900     -0.066849          -0.366707  \n",
       "KOSPI                   0.905556      0.772307          -0.307696  \n",
       "gold price              1.000000      0.882894          -0.406464  \n",
       "silver price            0.882894      1.000000          -0.283093  \n",
       "natural gas price      -0.406464     -0.283093           1.000000  "
      ]
     },
     "metadata": {},
     "output_type": "display_data"
    },
    {
     "name": "stdout",
     "output_type": "stream",
     "text": [
      "4.514\n"
     ]
    }
   ],
   "source": [
    "import pandas as pd\n",
    "\n",
    "data = pd.read_csv('https://raw.githubusercontent.com/JEunJin/Bigdata_python/master/bigdata_csvfile/Financial_Data.csv')\n",
    "#print(data.info()) # 결측치 없음 , date를 object에서 datetime형으로 변환 필요 \n",
    "#display(data.head())\n",
    "\n",
    "data['date']=pd.to_datetime(data['date'])\n",
    "#print(data.info())\n",
    "\n",
    "cor = data.corr()\n",
    "display(cor) # natural gas price와 가장 높은 음의 상관관계\n",
    "result = data['natural gas price'].mean()\n",
    "print(round(result,3))"
   ]
  },
  {
   "cell_type": "markdown",
   "id": "1512d37c",
   "metadata": {},
   "source": [
    "### 문제 3\n",
    "- 공기질 데이터에서 결측값 제거 \n",
    "- Wind 컬럼의 이상치 개수를 구하시오 \n"
   ]
  },
  {
   "cell_type": "code",
   "execution_count": null,
   "id": "7694a066",
   "metadata": {},
   "outputs": [
    {
     "name": "stdout",
     "output_type": "stream",
     "text": [
      "3\n"
     ]
    }
   ],
   "source": [
    "import pandas as pd\n",
    "\n",
    "data = pd.read_csv('https://raw.githubusercontent.com/JEunJin/Bigdata_python/master/bigdata_csvfile/airquality.csv')\n",
    "#data.info()\n",
    "data = data.dropna() # 결측치 존재 행 삭제 \n",
    "#data.info()\n",
    "q1 = data['Wind'].quantile(0.25)\n",
    "q3 = data['Wind'].quantile(0.75)\n",
    "IQR = q3 - q1 \n",
    "# 이상치 탐색 \n",
    "outlier = data[ (data['Wind']> q3 +1.5*IQR)|(data['Wind'] < q1 -1.5*IQR) ]\n",
    "print(len(outlier))"
   ]
  },
  {
   "cell_type": "markdown",
   "id": "5c6c44a9",
   "metadata": {},
   "source": [
    "## 작업형 2유형 \n",
    "- 국내 모기 수 데이터 \n",
    "1. 전체 데이터중 80%인 1074행을 train데이터로 사용 , 나머지를 test로 사용 슬라이싱 작업\n",
    "2. train 데이터를 활용해서 예측 모델을 모델링 , test 데이터에 적용해서 목표변수 mosquito_indicator를 예측 , 예측결과 제출\n",
    " - 예측결과는 test데이터 개수인 268행이 되도록 함 \n",
    "3. 제출 데이터 컬럼은 date와 mosquito_indicator 두개만 존재 , 평가지표는 RMSE \n",
    "4. 예측결과 파일명은 7th_test_type2.csv로 한다."
   ]
  },
  {
   "cell_type": "code",
   "execution_count": 8,
   "id": "19bb6503",
   "metadata": {},
   "outputs": [
    {
     "name": "stdout",
     "output_type": "stream",
     "text": [
      "147.3729710005036\n"
     ]
    }
   ],
   "source": [
    "import pandas as pd \n",
    "\n",
    "data = pd.read_csv('https://raw.githubusercontent.com/JEunJin/Bigdata_python/master/bigdata_csvfile/mosquito_Indicator.csv')\n",
    "#data.info()\n",
    "train =data.iloc[0:1074,:]\n",
    "test = data.iloc[1074:,:]\n",
    "\n",
    "from sklearn.model_selection import train_test_split\n",
    "X = train.drop(columns=['date','mosquito_Indicator'])\n",
    "y = train['mosquito_Indicator']\n",
    "X_train ,X_val , y_train, y_val = train_test_split(X,y,test_size=0.2)\n",
    "\n",
    "from sklearn.ensemble import RandomForestRegressor\n",
    "rfr = RandomForestRegressor(n_estimators=150,max_depth=8)\n",
    "rfr.fit(X_train,y_train)\n",
    "y_pred = rfr.predict(X_val)\n",
    "\n",
    "from sklearn.metrics import root_mean_squared_error\n",
    "rmse = root_mean_squared_error(y_pred,y_val)\n",
    "print(rmse)\n"
   ]
  },
  {
   "cell_type": "code",
   "execution_count": 9,
   "id": "f25af597",
   "metadata": {},
   "outputs": [
    {
     "name": "stdout",
     "output_type": "stream",
     "text": [
      "           date  mosquito_Indicator\n",
      "0    2019-04-04            9.465523\n",
      "1    2019-04-05           37.937413\n",
      "2    2019-04-06            8.522571\n",
      "3    2019-04-07           45.481717\n",
      "4    2019-04-08           13.547186\n",
      "..          ...                 ...\n",
      "263  2019-12-27            4.657318\n",
      "264  2019-12-28            5.043961\n",
      "265  2019-12-29            5.305867\n",
      "266  2019-12-30            5.104868\n",
      "267  2019-12-31            4.550132\n",
      "\n",
      "[268 rows x 2 columns]\n"
     ]
    }
   ],
   "source": [
    "X_test = test.drop(columns=['date','mosquito_Indicator'])\n",
    "y_pred2 = rfr.predict(X_test)\n",
    "pd.DataFrame({'date':test['date'],'mosquito_Indicator':y_pred2}).to_csv('7th_test_type2.csv',index=False)\n",
    "print(pd.read_csv('7th_test_type2.csv'))"
   ]
  },
  {
   "cell_type": "markdown",
   "id": "9429cb0a",
   "metadata": {},
   "source": [
    "## 작업형 3유형 \n",
    "### 문제 1\n",
    "- 전복 데이터 활용 로지스틱 회귀 분석 \n",
    "1. train 데이터의 전체 무게 Whole weight칼럼을 사용  전복의 성별을 예측 "
   ]
  }
 ],
 "metadata": {
  "kernelspec": {
   "display_name": "yangjung-woo",
   "language": "python",
   "name": "yangjung-woo"
  },
  "language_info": {
   "codemirror_mode": {
    "name": "ipython",
    "version": 3
   },
   "file_extension": ".py",
   "mimetype": "text/x-python",
   "name": "python",
   "nbconvert_exporter": "python",
   "pygments_lexer": "ipython3",
   "version": "3.13.2"
  }
 },
 "nbformat": 4,
 "nbformat_minor": 5
}
